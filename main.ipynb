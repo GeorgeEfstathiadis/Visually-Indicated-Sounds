{
 "cells": [
  {
   "cell_type": "code",
   "execution_count": 1,
   "metadata": {},
   "outputs": [
    {
     "name": "stdout",
     "output_type": "stream",
     "text": [
      "cuda\n"
     ]
    }
   ],
   "source": [
    "import os\n",
    "\n",
    "import numpy as np\n",
    "import torch\n",
    "from torch.utils.data import DataLoader\n",
    "\n",
    "# import Dataset from dataloader.py\n",
    "from dataloader import VideoAudioDataset, get_random_segment\n",
    "\n",
    "device = torch.device('cuda' if torch.cuda.is_available() else 'cpu')\n",
    "print(device)\n"
   ]
  },
  {
   "cell_type": "code",
   "execution_count": 2,
   "metadata": {},
   "outputs": [
    {
     "data": {
      "text/plain": [
       "(977, 977)"
      ]
     },
     "execution_count": 2,
     "metadata": {},
     "output_type": "execute_result"
    }
   ],
   "source": [
    "video_files = ['vis-data-256/vis-data-256/'+i for i in os.listdir('vis-data-256/vis-data-256/') if i.endswith('_mic.mp4')]\n",
    "audio_files = ['vis-data-256/vis-data-256/'+i for i in os.listdir('vis-data-256/vis-data-256/') if i.endswith('_mic.wav')]\n",
    "len(video_files), len(audio_files)"
   ]
  },
  {
   "attachments": {},
   "cell_type": "markdown",
   "metadata": {},
   "source": [
    "# Create Train-Validation-Test Sets"
   ]
  },
  {
   "cell_type": "code",
   "execution_count": 23,
   "metadata": {},
   "outputs": [],
   "source": [
    "# # 80-10-10 split\n",
    "# train_video_files = video_files[:int(0.8*len(video_files))]\n",
    "# train_audio_files = audio_files[:int(0.8*len(audio_files))]\n",
    "# val_video_files = video_files[int(0.8*len(video_files)):int(0.9*len(video_files))]\n",
    "# val_audio_files = audio_files[int(0.8*len(audio_files)):int(0.9*len(audio_files))]\n",
    "# test_video_files = video_files[int(0.9*len(video_files)):]\n",
    "# test_audio_files = audio_files[int(0.9*len(audio_files)):]"
   ]
  },
  {
   "cell_type": "code",
   "execution_count": 41,
   "metadata": {},
   "outputs": [],
   "source": [
    "# # create matchings between video and audio files\n",
    "# # 50% of the time, the video and audio files are matched\n",
    "# # 50% of the time, the video and audio files are not matched and the audio file is from a different video\n",
    "\n",
    "# # create a list of tuples (video_file, audio_file, label)\n",
    "# # label = 1 if video and audio are matched\n",
    "# # label = 0 if video and audio are not matched\n",
    "\n",
    "# train_dataset = [\n",
    "#     [train_video_files[i], train_audio_files[i], 1] for i in range(len(train_video_files)//2)\n",
    "# ]\n",
    "# train_dataset += [\n",
    "#     [train_video_files[i], train_audio_files[i+1], 0] for i in range(len(train_video_files)//2, len(train_video_files)-1)\n",
    "# ]\n",
    "# train_dataset += [\n",
    "#     [train_video_files[len(train_video_files)-1], train_audio_files[len(train_video_files)//2], 0]\n",
    "# ]\n",
    "# train_dataset = np.array(train_dataset)\n",
    "# np.random.shuffle(train_dataset)\n",
    "# train_dataset[:, 2] = train_dataset[:, 2].astype(int)\n",
    "\n",
    "# val_dataset = [\n",
    "#     [val_video_files[i], val_audio_files[i], 1] for i in range(len(val_video_files)//2)\n",
    "# ]\n",
    "# val_dataset += [\n",
    "#     [val_video_files[i], val_audio_files[i+1], 0] for i in range(len(val_video_files)//2, len(val_video_files)-1)\n",
    "# ]\n",
    "# val_dataset += [\n",
    "#     [val_video_files[len(val_video_files)-1], val_audio_files[len(val_video_files)//2], 0]\n",
    "# ]\n",
    "# val_dataset = np.array(val_dataset)\n",
    "# np.random.shuffle(val_dataset)\n",
    "# val_dataset[:, 2] = val_dataset[:, 2].astype(int)\n",
    "\n",
    "# test_dataset = [\n",
    "#     [test_video_files[i], test_audio_files[i], 1] for i in range(len(test_video_files)//2)\n",
    "# ]\n",
    "# test_dataset += [\n",
    "#     [test_video_files[i], test_audio_files[i+1], 0] for i in range(len(test_video_files)//2, len(test_video_files)-1)\n",
    "# ]\n",
    "# test_dataset += [\n",
    "#     [test_video_files[len(test_video_files)-1], test_audio_files[len(test_video_files)//2], 0]\n",
    "# ]\n",
    "# test_dataset = np.array(test_dataset)\n",
    "# np.random.shuffle(test_dataset)\n",
    "# test_dataset[:, 2] = test_dataset[:, 2].astype(int)"
   ]
  },
  {
   "cell_type": "code",
   "execution_count": 42,
   "metadata": {},
   "outputs": [],
   "source": [
    "# # save the datasets\n",
    "# np.save('datasets/train_dataset.npy', train_dataset)\n",
    "# np.save('datasets/val_dataset.npy', val_dataset)\n",
    "# np.save('datasets/test_dataset.npy', test_dataset)"
   ]
  },
  {
   "attachments": {},
   "cell_type": "markdown",
   "metadata": {},
   "source": [
    "# Test DataLoader"
   ]
  },
  {
   "cell_type": "code",
   "execution_count": 3,
   "metadata": {},
   "outputs": [],
   "source": [
    "train_dataset = np.load('datasets/train_dataset.npy')"
   ]
  },
  {
   "cell_type": "code",
   "execution_count": 4,
   "metadata": {},
   "outputs": [
    {
     "data": {
      "text/plain": [
       "(torch.Size([2148, 3, 256, 456]), torch.Size([6880472, 2]))"
      ]
     },
     "execution_count": 4,
     "metadata": {},
     "output_type": "execute_result"
    }
   ],
   "source": [
    "dataset = VideoAudioDataset(train_dataset, device)\n",
    "dataset[0][0].shape, dataset[0][1].shape"
   ]
  },
  {
   "cell_type": "code",
   "execution_count": 5,
   "metadata": {},
   "outputs": [
    {
     "data": {
      "text/plain": [
       "(torch.Size([149, 3, 256, 456]), torch.Size([480000, 2]))"
      ]
     },
     "execution_count": 5,
     "metadata": {},
     "output_type": "execute_result"
    }
   ],
   "source": [
    "# get a random segment of 5 seconds - keep the same time length for video and audio\n",
    "dataset = VideoAudioDataset(train_dataset, device, transform=get_random_segment)\n",
    "dataset[0][0].shape, dataset[0][1].shape"
   ]
  },
  {
   "cell_type": "code",
   "execution_count": 6,
   "metadata": {},
   "outputs": [
    {
     "name": "stdout",
     "output_type": "stream",
     "text": [
      "0 torch.Size([4, 149, 3, 256, 456]) torch.Size([4, 480000, 2]) tensor([1, 1, 1, 0])\n"
     ]
    }
   ],
   "source": [
    "# example of how to use the dataloader to iterate over the dataset\n",
    "batch_size = 4\n",
    "dataloader = DataLoader(dataset, batch_size=batch_size, shuffle=True)\n",
    "\n",
    "for i, (video, audio, label) in enumerate(dataloader):\n",
    "    print(i, video.shape, audio.shape, label)\n",
    "    if i == 0:\n",
    "        break"
   ]
  },
  {
   "cell_type": "code",
   "execution_count": null,
   "metadata": {},
   "outputs": [],
   "source": [
    "# check if the video and audio are in sync\n",
    "\n",
    "# first play video - (batch_size, n_frames, n_channels, height, width)\n",
    "import cv2\n",
    "import matplotlib.pyplot as plt\n",
    "%matplotlib inline\n",
    "\n",
    "# play video for the first batch - with a video frame rate of 30 fps\n",
    "video, audio, label = dataset[1]\n",
    "assert label == 1\n",
    "\n",
    "video = video.permute(0, 2, 3, 1).numpy()\n",
    "out = cv2.VideoWriter('test_sync/video.mp4', cv2.VideoWriter_fourcc(*'mp4v'), 30, (video.shape[2], video.shape[1]))\n",
    "for i in range(video.shape[0]):\n",
    "    out.write(video[i])\n",
    "out.release()\n",
    "\n",
    "# save audio - (n_frames, n_channels) - AUDIO_SAMPLE_RATE = 96000\n",
    "from scipy.io import wavfile\n",
    "wavfile.write('test_sync/audio.wav', 96000, audio.numpy())\n"
   ]
  }
 ],
 "metadata": {
  "kernelspec": {
   "display_name": "Python 3",
   "language": "python",
   "name": "python3"
  },
  "language_info": {
   "codemirror_mode": {
    "name": "ipython",
    "version": 3
   },
   "file_extension": ".py",
   "mimetype": "text/x-python",
   "name": "python",
   "nbconvert_exporter": "python",
   "pygments_lexer": "ipython3",
   "version": "3.9.6"
  },
  "orig_nbformat": 4
 },
 "nbformat": 4,
 "nbformat_minor": 2
}
