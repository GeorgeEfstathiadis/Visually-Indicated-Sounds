{
 "cells": [
  {
   "cell_type": "code",
   "execution_count": 1,
   "metadata": {},
   "outputs": [
    {
     "name": "stdout",
     "output_type": "stream",
     "text": [
      "cuda\n"
     ]
    }
   ],
   "source": [
    "import os\n",
    "\n",
    "import numpy as np\n",
    "import torch\n",
    "from torch.utils.data import DataLoader\n",
    "\n",
    "# import Dataset from dataloader.py\n",
    "from dataloader import VideoAudioDataset, ResamplingSampler, VATransform\n",
    "\n",
    "# !! Put data file location in file `data_filepath`\n",
    "# If file `data_filepath` does not exist, assume data is located in root\n",
    "filepath = 'vis-data-256/vis-data-256/'\n",
    "\n",
    "if os.path.isfile('data_filepath'):\n",
    "    with open('data_filepath', 'r') as f:\n",
    "        filepath = f.readline() + filepath\n",
    "\n",
    "device = torch.device('cuda' if torch.cuda.is_available() else 'cpu')\n",
    "# device = torch.device('cpu')\n",
    "print(device)\n"
   ]
  },
  {
   "attachments": {},
   "cell_type": "markdown",
   "metadata": {},
   "source": [
    "# Model Example"
   ]
  },
  {
   "cell_type": "code",
   "execution_count": 4,
   "metadata": {},
   "outputs": [
    {
     "name": "stderr",
     "output_type": "stream",
     "text": [
      "c:\\Users\\gioef\\AppData\\Local\\Programs\\Python\\Python39\\lib\\site-packages\\torchvision\\models\\_utils.py:208: UserWarning: The parameter 'pretrained' is deprecated since 0.13 and may be removed in the future, please use 'weights' instead.\n",
      "  warnings.warn(\n",
      "c:\\Users\\gioef\\AppData\\Local\\Programs\\Python\\Python39\\lib\\site-packages\\torchvision\\models\\_utils.py:223: UserWarning: Arguments other than a weight enum or `None` for 'weights' are deprecated since 0.13 and may be removed in the future. The current behavior is equivalent to passing `weights=R3D_18_Weights.KINETICS400_V1`. You can also use `weights=R3D_18_Weights.DEFAULT` to get the most up-to-date weights.\n",
      "  warnings.warn(msg)\n",
      "Some weights of the model checkpoint at facebook/wav2vec2-base-960h were not used when initializing Wav2Vec2Model: ['lm_head.bias', 'lm_head.weight']\n",
      "- This IS expected if you are initializing Wav2Vec2Model from the checkpoint of a model trained on another task or with another architecture (e.g. initializing a BertForSequenceClassification model from a BertForPreTraining model).\n",
      "- This IS NOT expected if you are initializing Wav2Vec2Model from the checkpoint of a model that you expect to be exactly identical (initializing a BertForSequenceClassification model from a BertForSequenceClassification model).\n",
      "Some weights of Wav2Vec2Model were not initialized from the model checkpoint at facebook/wav2vec2-base-960h and are newly initialized: ['wav2vec2.masked_spec_embed']\n",
      "You should probably TRAIN this model on a down-stream task to be able to use it for predictions and inference.\n"
     ]
    }
   ],
   "source": [
    "from models import VideoAudioMatchingModel2\n",
    "\n",
    "model = VideoAudioMatchingModel2().to(device)"
   ]
  },
  {
   "cell_type": "code",
   "execution_count": 5,
   "metadata": {},
   "outputs": [
    {
     "name": "stdout",
     "output_type": "stream",
     "text": [
      "================================================================================\n",
      "Layer (type:depth-idx)                                  Param #\n",
      "================================================================================\n",
      "├─VideoResNet: 1-1                                      --\n",
      "|    └─BasicStem: 2-1                                   --\n",
      "|    |    └─Conv3d: 3-1                                 28,224\n",
      "|    |    └─BatchNorm3d: 3-2                            128\n",
      "|    |    └─ReLU: 3-3                                   --\n",
      "|    └─Sequential: 2-2                                  --\n",
      "|    |    └─BasicBlock: 3-4                             221,440\n",
      "|    |    └─BasicBlock: 3-5                             221,440\n",
      "|    └─Sequential: 2-3                                  --\n",
      "|    |    └─BasicBlock: 3-6                             672,512\n",
      "|    |    └─BasicBlock: 3-7                             885,248\n",
      "|    └─Sequential: 2-4                                  --\n",
      "|    |    └─BasicBlock: 3-8                             2,688,512\n",
      "|    |    └─BasicBlock: 3-9                             3,539,968\n",
      "|    └─Sequential: 2-5                                  --\n",
      "|    |    └─BasicBlock: 3-10                            10,750,976\n",
      "|    |    └─BasicBlock: 3-11                            14,157,824\n",
      "|    └─AdaptiveAvgPool3d: 2-6                           --\n",
      "|    └─Linear: 2-7                                      65,664\n",
      "├─Dropout: 1-2                                          --\n",
      "├─Wav2Vec2Model: 1-3                                    --\n",
      "|    └─Wav2Vec2FeatureEncoder: 2-8                      --\n",
      "|    |    └─ModuleList: 3-12                            4,200,448\n",
      "|    └─Wav2Vec2FeatureProjection: 2-9                   --\n",
      "|    |    └─LayerNorm: 3-13                             1,024\n",
      "|    |    └─Linear: 3-14                                393,984\n",
      "|    |    └─Dropout: 3-15                               --\n",
      "|    └─Wav2Vec2Encoder: 2-10                            --\n",
      "|    |    └─Wav2Vec2PositionalConvEmbedding: 3-16       4,719,488\n",
      "|    |    └─LayerNorm: 3-17                             1,536\n",
      "|    |    └─Dropout: 3-18                               --\n",
      "|    |    └─ModuleList: 3-19                            85,054,464\n",
      "├─Linear: 1-4                                           98,432\n",
      "├─Dropout: 1-5                                          --\n",
      "├─Sequential: 1-6                                       --\n",
      "|    └─Linear: 2-11                                     16,448\n",
      "|    └─ReLU: 2-12                                       --\n",
      "|    └─Dropout: 2-13                                    --\n",
      "|    └─Linear: 2-14                                     65\n",
      "================================================================================\n",
      "Total params: 127,717,825\n",
      "Trainable params: 127,717,825\n",
      "Non-trainable params: 0\n",
      "================================================================================\n"
     ]
    },
    {
     "data": {
      "text/plain": [
       "================================================================================\n",
       "Layer (type:depth-idx)                                  Param #\n",
       "================================================================================\n",
       "├─VideoResNet: 1-1                                      --\n",
       "|    └─BasicStem: 2-1                                   --\n",
       "|    |    └─Conv3d: 3-1                                 28,224\n",
       "|    |    └─BatchNorm3d: 3-2                            128\n",
       "|    |    └─ReLU: 3-3                                   --\n",
       "|    └─Sequential: 2-2                                  --\n",
       "|    |    └─BasicBlock: 3-4                             221,440\n",
       "|    |    └─BasicBlock: 3-5                             221,440\n",
       "|    └─Sequential: 2-3                                  --\n",
       "|    |    └─BasicBlock: 3-6                             672,512\n",
       "|    |    └─BasicBlock: 3-7                             885,248\n",
       "|    └─Sequential: 2-4                                  --\n",
       "|    |    └─BasicBlock: 3-8                             2,688,512\n",
       "|    |    └─BasicBlock: 3-9                             3,539,968\n",
       "|    └─Sequential: 2-5                                  --\n",
       "|    |    └─BasicBlock: 3-10                            10,750,976\n",
       "|    |    └─BasicBlock: 3-11                            14,157,824\n",
       "|    └─AdaptiveAvgPool3d: 2-6                           --\n",
       "|    └─Linear: 2-7                                      65,664\n",
       "├─Dropout: 1-2                                          --\n",
       "├─Wav2Vec2Model: 1-3                                    --\n",
       "|    └─Wav2Vec2FeatureEncoder: 2-8                      --\n",
       "|    |    └─ModuleList: 3-12                            4,200,448\n",
       "|    └─Wav2Vec2FeatureProjection: 2-9                   --\n",
       "|    |    └─LayerNorm: 3-13                             1,024\n",
       "|    |    └─Linear: 3-14                                393,984\n",
       "|    |    └─Dropout: 3-15                               --\n",
       "|    └─Wav2Vec2Encoder: 2-10                            --\n",
       "|    |    └─Wav2Vec2PositionalConvEmbedding: 3-16       4,719,488\n",
       "|    |    └─LayerNorm: 3-17                             1,536\n",
       "|    |    └─Dropout: 3-18                               --\n",
       "|    |    └─ModuleList: 3-19                            85,054,464\n",
       "├─Linear: 1-4                                           98,432\n",
       "├─Dropout: 1-5                                          --\n",
       "├─Sequential: 1-6                                       --\n",
       "|    └─Linear: 2-11                                     16,448\n",
       "|    └─ReLU: 2-12                                       --\n",
       "|    └─Dropout: 2-13                                    --\n",
       "|    └─Linear: 2-14                                     65\n",
       "================================================================================\n",
       "Total params: 127,717,825\n",
       "Trainable params: 127,717,825\n",
       "Non-trainable params: 0\n",
       "================================================================================"
      ]
     },
     "execution_count": 5,
     "metadata": {},
     "output_type": "execute_result"
    }
   ],
   "source": [
    "from torchsummary import summary\n",
    "\n",
    "summary(model)"
   ]
  },
  {
   "cell_type": "code",
   "execution_count": 5,
   "metadata": {},
   "outputs": [],
   "source": [
    "video, audio, label = dataset[0]\n",
    "video = video.unsqueeze(0)\n",
    "audio = audio.unsqueeze(0)\n",
    "video = video.to(device)\n",
    "audio = audio.to(device)"
   ]
  },
  {
   "cell_type": "code",
   "execution_count": 6,
   "metadata": {},
   "outputs": [
    {
     "data": {
      "text/plain": [
       "(torch.Size([1, 3, 3, 52, 92]), torch.Size([1, 48000]))"
      ]
     },
     "execution_count": 6,
     "metadata": {},
     "output_type": "execute_result"
    }
   ],
   "source": [
    "video.shape, audio.shape"
   ]
  },
  {
   "attachments": {},
   "cell_type": "markdown",
   "metadata": {},
   "source": [
    "# Training Loop"
   ]
  },
  {
   "cell_type": "code",
   "execution_count": 6,
   "metadata": {},
   "outputs": [],
   "source": [
    "train_dataset = np.load('datasets/train_dataset.npy')\n",
    "# remove 2015-09-12-04-15-35-1_mic.wav row\n",
    "train_dataset = train_dataset[train_dataset[:, 1] != '2015-09-12-04-15-35-1_mic.wav']\n",
    "\n",
    "val_dataset = np.load('datasets/val_dataset.npy')\n",
    "test_dataset = np.load('datasets/test_dataset.npy')\n",
    "\n",
    "transforms = [VATransform.RANDOM_SEGMENT, \n",
    "                    VATransform.IMG_DOWNSAMPLE,\n",
    "                    VATransform.FRAME_DOWNSAMPLE,\n",
    "                    VATransform.DATA_AUGMENT]\n",
    "\n",
    "\n",
    "transform_args = {'random_segment_seconds': 1, 'frame_downsample_factor': 4, 'img_downsample_factor': 4}\n",
    "\n",
    "train_dataset_cls = VideoAudioDataset(train_dataset, device, filepath_prefix=filepath, transform=transforms, **transform_args)\n",
    "val_dataset_cls = VideoAudioDataset(val_dataset, device, filepath_prefix=filepath, transform=transforms, **transform_args)\n",
    "test_dataset_cls = VideoAudioDataset(test_dataset, device, filepath_prefix=filepath, transform=transforms, **transform_args)\n",
    "\n",
    "train_sampler = ResamplingSampler(train_dataset_cls, batch_size=8, no_batches=100, replacement=True)\n",
    "\n",
    "train_dataloader = DataLoader(train_dataset_cls, batch_sampler=train_sampler)\n",
    "val_dataloader = DataLoader(val_dataset_cls, batch_size=4, shuffle=False)\n",
    "test_dataloader = DataLoader(test_dataset_cls, batch_size=1, shuffle=False)"
   ]
  },
  {
   "attachments": {},
   "cell_type": "markdown",
   "metadata": {},
   "source": [
    "# Test Loop"
   ]
  },
  {
   "cell_type": "code",
   "execution_count": 18,
   "metadata": {},
   "outputs": [
    {
     "data": {
      "text/plain": [
       "95"
      ]
     },
     "execution_count": 18,
     "metadata": {},
     "output_type": "execute_result"
    }
   ],
   "source": [
    "len(train_dataloader)"
   ]
  },
  {
   "cell_type": "code",
   "execution_count": 5,
   "metadata": {},
   "outputs": [],
   "source": [
    "i, (video, audio, label) = next(enumerate(train_dataloader))"
   ]
  },
  {
   "cell_type": "code",
   "execution_count": 13,
   "metadata": {},
   "outputs": [
    {
     "name": "stdout",
     "output_type": "stream",
     "text": [
      "torch.Size([8, 5, 3, 52, 92]) torch.Size([8, 96000]) torch.Size([8])\n"
     ]
    },
    {
     "data": {
      "text/plain": [
       "<matplotlib.image.AxesImage at 0x241207fcdf0>"
      ]
     },
     "execution_count": 13,
     "metadata": {},
     "output_type": "execute_result"
    },
    {
     "data": {
      "image/png": "[encoded data removed]",
      "text/plain": [
       "<Figure size 432x288 with 1 Axes>"
      ]
     },
     "metadata": {
      "needs_background": "light"
     },
     "output_type": "display_data"
    }
   ],
   "source": [
    "print(video.shape, audio.shape, label.shape)\n",
    "\n",
    "# plot frame of video\n",
    "import matplotlib.pyplot as plt\n",
    "plt.imshow(video[4, 4, :, :, :].cpu().numpy().transpose(1, 2, 0))\n",
    "\n",
    "# # histogram of video values\n",
    "# plt.hist(video[4, 0, 0, :, :].cpu().numpy().flatten())\n",
    "# plt.show()\n"
   ]
  },
  {
   "attachments": {},
   "cell_type": "markdown",
   "metadata": {},
   "source": [
    "# Training Loop"
   ]
  },
  {
   "cell_type": "code",
   "execution_count": 7,
   "metadata": {},
   "outputs": [
    {
     "name": "stderr",
     "output_type": "stream",
     "text": [
      "Some weights of the model checkpoint at facebook/wav2vec2-base-960h were not used when initializing Wav2Vec2Model: ['lm_head.weight', 'lm_head.bias']\n",
      "- This IS expected if you are initializing Wav2Vec2Model from the checkpoint of a model trained on another task or with another architecture (e.g. initializing a BertForSequenceClassification model from a BertForPreTraining model).\n",
      "- This IS NOT expected if you are initializing Wav2Vec2Model from the checkpoint of a model that you expect to be exactly identical (initializing a BertForSequenceClassification model from a BertForSequenceClassification model).\n",
      "Some weights of Wav2Vec2Model were not initialized from the model checkpoint at facebook/wav2vec2-base-960h and are newly initialized: ['wav2vec2.masked_spec_embed']\n",
      "You should probably TRAIN this model on a down-stream task to be able to use it for predictions and inference.\n"
     ]
    },
    {
     "name": "stdout",
     "output_type": "stream",
     "text": [
      "Epoch [1/60], Step [5/100], Loss: 0.7020\n",
      "Epoch [1/60], Step [10/100], Loss: 0.6998\n",
      "Epoch [1/60], Step [15/100], Loss: 0.6934\n",
      "Epoch [1/60], Step [20/100], Loss: 0.6881\n",
      "Epoch [1/60], Step [25/100], Loss: 0.6788\n",
      "Epoch [1/60], Step [30/100], Loss: 0.6817\n",
      "Epoch [1/60], Step [35/100], Loss: 0.6808\n",
      "Epoch [1/60], Step [40/100], Loss: 0.6785\n",
      "Epoch [1/60], Step [45/100], Loss: 0.6775\n",
      "Epoch [1/60], Step [50/100], Loss: 0.6701\n",
      "Epoch [1/60], Step [55/100], Loss: 0.6688\n",
      "Epoch [1/60], Step [60/100], Loss: 0.6690\n",
      "Epoch [1/60], Step [65/100], Loss: 0.6711\n",
      "Epoch [1/60], Step [70/100], Loss: 0.6714\n",
      "Epoch [1/60], Step [75/100], Loss: 0.6624\n",
      "Epoch [1/60], Step [80/100], Loss: 0.6607\n",
      "Epoch [1/60], Step [85/100], Loss: 0.6561\n",
      "Epoch [1/60], Step [90/100], Loss: 0.6486\n",
      "Epoch [1/60], Step [95/100], Loss: 0.6446\n",
      "Epoch [1/60], Step [100/100], Loss: 0.6406\n",
      "Epoch [1/60], Train Loss: 0.6406, Train Acc: 0.6075, Val Loss: 0.9067, Val Acc: 0.2959\n",
      "Epoch [2/60], Step [5/100], Loss: 0.6284\n",
      "Epoch [2/60], Step [10/100], Loss: 0.5807\n",
      "Epoch [2/60], Step [15/100], Loss: 0.5871\n",
      "Epoch [2/60], Step [20/100], Loss: 0.5658\n",
      "Epoch [2/60], Step [25/100], Loss: 0.5690\n",
      "Epoch [2/60], Step [30/100], Loss: 0.5475\n",
      "Epoch [2/60], Step [35/100], Loss: 0.5477\n",
      "Epoch [2/60], Step [40/100], Loss: 0.5461\n",
      "Epoch [2/60], Step [45/100], Loss: 0.5441\n",
      "Epoch [2/60], Step [50/100], Loss: 0.5392\n",
      "Epoch [2/60], Step [55/100], Loss: 0.5358\n",
      "Epoch [2/60], Step [60/100], Loss: 0.5312\n",
      "Epoch [2/60], Step [65/100], Loss: 0.5248\n",
      "Epoch [2/60], Step [70/100], Loss: 0.5273\n",
      "Epoch [2/60], Step [75/100], Loss: 0.5276\n",
      "Epoch [2/60], Step [80/100], Loss: 0.5238\n",
      "Epoch [2/60], Step [85/100], Loss: 0.5163\n",
      "Epoch [2/60], Step [90/100], Loss: 0.5149\n",
      "Epoch [2/60], Step [95/100], Loss: 0.5112\n",
      "Epoch [2/60], Step [100/100], Loss: 0.5128\n",
      "Epoch [2/60], Train Loss: 0.5128, Train Acc: 0.7600, Val Loss: 1.2676, Val Acc: 0.2959\n",
      "Epoch [3/60], Step [5/100], Loss: 0.5096\n",
      "Epoch [3/60], Step [10/100], Loss: 0.4594\n",
      "Epoch [3/60], Step [15/100], Loss: 0.4723\n",
      "Epoch [3/60], Step [20/100], Loss: 0.4537\n",
      "Epoch [3/60], Step [25/100], Loss: 0.4813\n",
      "Epoch [3/60], Step [30/100], Loss: 0.4947\n",
      "Epoch [3/60], Step [35/100], Loss: 0.5136\n",
      "Epoch [3/60], Step [40/100], Loss: 0.5110\n",
      "Epoch [3/60], Step [45/100], Loss: 0.5143\n",
      "Epoch [3/60], Step [50/100], Loss: 0.5066\n",
      "Epoch [3/60], Step [55/100], Loss: 0.4952\n",
      "Epoch [3/60], Step [60/100], Loss: 0.5118\n",
      "Epoch [3/60], Step [65/100], Loss: 0.5095\n",
      "Epoch [3/60], Step [70/100], Loss: 0.5088\n",
      "Epoch [3/60], Step [75/100], Loss: 0.5032\n",
      "Epoch [3/60], Step [80/100], Loss: 0.5080\n",
      "Epoch [3/60], Step [85/100], Loss: 0.5019\n",
      "Epoch [3/60], Step [90/100], Loss: 0.4988\n",
      "Epoch [3/60], Step [95/100], Loss: 0.4979\n",
      "Epoch [3/60], Step [100/100], Loss: 0.4942\n",
      "Epoch [3/60], Train Loss: 0.4942, Train Acc: 0.7712, Val Loss: 1.2687, Val Acc: 0.4082\n",
      "Epoch [4/60], Step [5/100], Loss: 0.4363\n",
      "Epoch [4/60], Step [10/100], Loss: 0.4316\n",
      "Epoch [4/60], Step [15/100], Loss: 0.4815\n",
      "Epoch [4/60], Step [20/100], Loss: 0.4975\n",
      "Epoch [4/60], Step [25/100], Loss: 0.4976\n",
      "Epoch [4/60], Step [30/100], Loss: 0.4971\n",
      "Epoch [4/60], Step [35/100], Loss: 0.4953\n",
      "Epoch [4/60], Step [40/100], Loss: 0.4999\n",
      "Epoch [4/60], Step [45/100], Loss: 0.4993\n",
      "Epoch [4/60], Step [50/100], Loss: 0.4895\n",
      "Epoch [4/60], Step [55/100], Loss: 0.4932\n",
      "Epoch [4/60], Step [60/100], Loss: 0.4886\n",
      "Epoch [4/60], Step [65/100], Loss: 0.4841\n",
      "Epoch [4/60], Step [70/100], Loss: 0.4790\n",
      "Epoch [4/60], Step [75/100], Loss: 0.4919\n",
      "Epoch [4/60], Step [80/100], Loss: 0.4902\n",
      "Epoch [4/60], Step [85/100], Loss: 0.4860\n",
      "Epoch [4/60], Step [90/100], Loss: 0.4799\n",
      "Epoch [4/60], Step [95/100], Loss: 0.4804\n",
      "Epoch [4/60], Step [100/100], Loss: 0.4787\n",
      "Epoch [4/60], Train Loss: 0.4787, Train Acc: 0.7775, Val Loss: 1.3671, Val Acc: 0.3265\n",
      "Epoch [5/60], Step [5/100], Loss: 0.5373\n",
      "Epoch [5/60], Step [10/100], Loss: 0.5531\n",
      "Epoch [5/60], Step [15/100], Loss: 0.5520\n",
      "Epoch [5/60], Step [20/100], Loss: 0.5303\n",
      "Epoch [5/60], Step [25/100], Loss: 0.4969\n",
      "Epoch [5/60], Step [30/100], Loss: 0.4887\n",
      "Epoch [5/60], Step [35/100], Loss: 0.4748\n",
      "Epoch [5/60], Step [40/100], Loss: 0.4648\n",
      "Epoch [5/60], Step [45/100], Loss: 0.4639\n",
      "Epoch [5/60], Step [50/100], Loss: 0.4692\n",
      "Epoch [5/60], Step [55/100], Loss: 0.4766\n",
      "Epoch [5/60], Step [60/100], Loss: 0.4794\n",
      "Epoch [5/60], Step [65/100], Loss: 0.4782\n",
      "Epoch [5/60], Step [70/100], Loss: 0.4711\n",
      "Epoch [5/60], Step [75/100], Loss: 0.4726\n",
      "Epoch [5/60], Step [80/100], Loss: 0.4746\n",
      "Epoch [5/60], Step [85/100], Loss: 0.4694\n",
      "Epoch [5/60], Step [90/100], Loss: 0.4716\n",
      "Epoch [5/60], Step [95/100], Loss: 0.4695\n",
      "Epoch [5/60], Step [100/100], Loss: 0.4768\n",
      "Epoch [5/60], Train Loss: 0.4768, Train Acc: 0.7712, Val Loss: 1.3595, Val Acc: 0.2959\n",
      "Epoch [6/60], Step [5/100], Loss: 0.3724\n",
      "Epoch [6/60], Step [10/100], Loss: 0.4310\n",
      "Epoch [6/60], Step [15/100], Loss: 0.4356\n",
      "Epoch [6/60], Step [20/100], Loss: 0.4183\n",
      "Epoch [6/60], Step [25/100], Loss: 0.4514\n",
      "Epoch [6/60], Step [30/100], Loss: 0.4427\n",
      "Epoch [6/60], Step [35/100], Loss: 0.4286\n",
      "Epoch [6/60], Step [40/100], Loss: 0.4231\n",
      "Epoch [6/60], Step [45/100], Loss: 0.4341\n",
      "Epoch [6/60], Step [50/100], Loss: 0.4411\n",
      "Epoch [6/60], Step [55/100], Loss: 0.4361\n",
      "Epoch [6/60], Step [60/100], Loss: 0.4446\n",
      "Epoch [6/60], Step [65/100], Loss: 0.4540\n",
      "Epoch [6/60], Step [70/100], Loss: 0.4473\n",
      "Epoch [6/60], Step [75/100], Loss: 0.4451\n",
      "Epoch [6/60], Step [80/100], Loss: 0.4512\n",
      "Epoch [6/60], Step [85/100], Loss: 0.4546\n",
      "Epoch [6/60], Step [90/100], Loss: 0.4547\n",
      "Epoch [6/60], Step [95/100], Loss: 0.4579\n",
      "Epoch [6/60], Step [100/100], Loss: 0.4567\n",
      "Epoch [6/60], Train Loss: 0.4567, Train Acc: 0.7800, Val Loss: 1.4292, Val Acc: 0.3061\n",
      "Early stopping after 6 epochs\n"
     ]
    }
   ],
   "source": [
    "from models import VideoAudioMatchingModel2\n",
    "\n",
    "model = VideoAudioMatchingModel2().to(device)\n",
    "\n",
    "# train\n",
    "# optimizer = torch.optim.Adam(model.parameters(), lr=1e-6, weight_decay=1e-4)\n",
    "optimizer = torch.optim.Adam(model.parameters(), lr=1e-3, weight_decay=1e-4)\n",
    "criterion = torch.nn.BCELoss()\n",
    "no_epochs = 15*4\n",
    "accumulate_gradients = 5  # Number of mini-batches to accumulate gradients over\n",
    "train_losses = []\n",
    "val_losses = []\n",
    "train_accuracies = []\n",
    "val_accuracies = []\n",
    "\n",
    "# Early stopping parameters\n",
    "patience = 5  # Number of epochs to wait for improvement before stopping\n",
    "best_val_loss = float('inf')  # Initialize best validation loss\n",
    "patience_counter = 0  # Initialize patience counter\n",
    "\n",
    "\n",
    "model.train()\n",
    "for epoch in range(no_epochs):\n",
    "\n",
    "    running_loss = 0\n",
    "    running_corrects = 0\n",
    "    total_samples = 0\n",
    "\n",
    "\n",
    "    for batch_idx, (video, audio, label) in enumerate(train_dataloader):\n",
    "        video = video.to(device)\n",
    "        audio = audio.to(device)\n",
    "        label = label.to(device)\n",
    "\n",
    "        # Forward pass\n",
    "        outputs = model(video, audio).squeeze()  # (batch_size, 1) -> (batch_size)\n",
    "        loss = criterion(outputs, label.float())\n",
    "\n",
    "        # Backward and optimize\n",
    "        loss.backward()\n",
    "        running_loss += loss.item()\n",
    "        total_samples += label.size(0)\n",
    "\n",
    "        # Calculate accuracy\n",
    "        predictions = (outputs > 0.5).float()\n",
    "        running_corrects += (predictions == label.float()).sum().item()\n",
    "\n",
    "        if (batch_idx + 1) % accumulate_gradients == 0:\n",
    "            optimizer.step()\n",
    "            optimizer.zero_grad()\n",
    "            print('Epoch [{}/{}], Step [{}/{}], Loss: {:.4f}'.format(epoch + 1, no_epochs, batch_idx + 1, len(train_dataloader), running_loss / (batch_idx + 1)))\n",
    "\n",
    "    train_losses.append(running_loss / len(train_dataloader))\n",
    "    train_accuracies.append(running_corrects / total_samples)\n",
    "\n",
    "    running_val_loss = 0\n",
    "    running_val_corrects = 0\n",
    "    total_val_samples = 0\n",
    "\n",
    "    model.eval()\n",
    "    with torch.no_grad():\n",
    "        for batch_idx, (video, audio, label) in enumerate(val_dataloader):\n",
    "\n",
    "            video = video.to(device)\n",
    "            audio = audio.to(device)\n",
    "            label = label.to(device)\n",
    "\n",
    "            # Forward pass\n",
    "            outputs = model(video, audio).squeeze()  # (batch_size, 1) -> (batch_size)\n",
    "            loss = criterion(outputs, label.float())\n",
    "            running_val_loss += loss.item()\n",
    "            total_val_samples += label.size(0)\n",
    "\n",
    "            # Calculate accuracy\n",
    "            predictions = (outputs > 0.5).float()\n",
    "            running_val_corrects += (predictions == label.float()).sum().item()\n",
    "\n",
    "    val_losses.append(running_val_loss / len(val_dataloader))\n",
    "    val_accuracies.append(running_val_corrects / total_val_samples)\n",
    "\n",
    "    # print progress\n",
    "    print('Epoch [{}/{}], Train Loss: {:.4f}, Train Acc: {:.4f}, Val Loss: {:.4f}, Val Acc: {:.4f}'.format(epoch + 1, no_epochs, train_losses[-1], train_accuracies[-1], val_losses[-1], val_accuracies[-1]))\n",
    "\n",
    "    # Check for early stopping\n",
    "    if val_losses[-1] < best_val_loss:\n",
    "        best_val_loss = val_losses[-1]\n",
    "        torch.save(model.state_dict(), 'best_model.pt')  # Save the best model\n",
    "        patience_counter = 0  # Reset patience counter\n",
    "    else:\n",
    "        patience_counter += 1\n",
    "\n",
    "    if patience_counter >= patience:\n",
    "        print('Early stopping after {} epochs'.format(epoch + 1))\n",
    "        break\n",
    "\n",
    "    model.train()\n"
   ]
  },
  {
   "cell_type": "code",
   "execution_count": null,
   "metadata": {},
   "outputs": [
    {
     "data": {
      "image/png": "[encoded data removed]",
      "text/plain": [
       "<Figure size 432x288 with 1 Axes>"
      ]
     },
     "metadata": {
      "needs_background": "light"
     },
     "output_type": "display_data"
    },
    {
     "data": {
      "image/png": "[encoded data removed]",
      "text/plain": [
       "<Figure size 432x288 with 1 Axes>"
      ]
     },
     "metadata": {
      "needs_background": "light"
     },
     "output_type": "display_data"
    }
   ],
   "source": [
    "from matplotlib import pyplot as plt\n",
    "\n",
    "plt.plot(train_losses, label='Train')\n",
    "plt.plot(val_losses, label='Val')\n",
    "plt.title('Loss')\n",
    "plt.legend()\n",
    "plt.show()\n",
    "\n",
    "plt.plot(train_accuracies, label='Train')\n",
    "plt.plot(val_accuracies, label='Val')\n",
    "plt.title('Accuracy')\n",
    "plt.legend()\n",
    "plt.show()\n"
   ]
  },
  {
   "attachments": {},
   "cell_type": "markdown",
   "metadata": {},
   "source": [
    "# Test set"
   ]
  },
  {
   "cell_type": "code",
   "execution_count": 22,
   "metadata": {},
   "outputs": [
    {
     "data": {
      "text/plain": [
       "<All keys matched successfully>"
      ]
     },
     "execution_count": 22,
     "metadata": {},
     "output_type": "execute_result"
    }
   ],
   "source": [
    "from tqdm import tqdm\n",
    "\n",
    "# load best model\n",
    "model.load_state_dict(torch.load('best_model.pt'))"
   ]
  },
  {
   "cell_type": "code",
   "execution_count": 24,
   "metadata": {},
   "outputs": [
    {
     "name": "stderr",
     "output_type": "stream",
     "text": [
      "98it [00:17,  5.73it/s]\n"
     ]
    }
   ],
   "source": [
    "test_dataset = np.load('datasets/test_dataset.npy')\n",
    "transforms = [VATransform.RANDOM_SEGMENT,\n",
    "                    VATransform.IMG_DOWNSAMPLE,\n",
    "                    VATransform.FRAME_DOWNSAMPLE,\n",
    "]\n",
    "test_dataset_cls = VideoAudioDataset(test_dataset, device, filepath_prefix=filepath, transform=transforms, **transform_args)\n",
    "\n",
    "test_dataloader = DataLoader(test_dataset_cls, batch_size=1, shuffle=False)\n",
    "\n",
    "model.eval()  # switch model to the evaluation mode\n",
    "test_predictions = []\n",
    "test_labels = []\n",
    "with torch.no_grad():  # deactivate autograd engine to reduce memory usage and speed up computations\n",
    "    for idx, (video, audio, label) in tqdm(enumerate(test_dataloader)):\n",
    "        video = video.to(device)\n",
    "        audio = audio.to(device)\n",
    "        output = model(video, audio)  # predict\n",
    "        output = (output > 0.5).float()  # apply threshold\n",
    "        test_predictions.extend(output.cpu().numpy())\n",
    "        test_labels.extend(label.numpy())\n",
    "\n",
    "        # print('Test [{}/{}]'.format(idx + 1, len(test_dataloader)))\n"
   ]
  },
  {
   "cell_type": "code",
   "execution_count": 25,
   "metadata": {},
   "outputs": [
    {
     "name": "stdout",
     "output_type": "stream",
     "text": [
      "Test accuracy: 0.4898\n",
      "[0. 0. 0. 0. 0. 0. 0. 0. 0. 0. 0. 0. 0. 0. 0. 0. 0. 0. 0. 0. 0. 0. 0. 0.\n",
      " 0. 0. 0. 0. 0. 0. 0. 0. 0. 0. 0. 0. 0. 0. 0. 0. 0. 0. 0. 0. 0. 0. 0. 0.\n",
      " 0. 0. 0. 0. 0. 0. 0. 0. 0. 0. 0. 0. 0. 0. 0. 0. 0. 0. 0. 0. 0. 0. 0. 0.\n",
      " 0. 0. 0. 0. 0. 0. 0. 1. 0. 0. 0. 0. 0. 0. 0. 0. 0. 0. 0. 0. 0. 0. 0. 0.\n",
      " 0. 0.]\n",
      "[1 1 1 1 1 1 0 0 0 0 1 1 0 0 0 1 1 1 0 0 0 1 1 1 0 0 1 0 1 1 0 0 0 0 0 1 0\n",
      " 0 1 0 0 0 0 1 0 1 1 1 0 1 0 0 1 1 1 0 1 1 0 0 1 1 0 1 1 0 0 1 0 0 0 1 0 1\n",
      " 1 1 0 0 1 0 0 1 0 0 1 0 0 1 1 1 0 1 1 1 1 1 0 0]\n"
     ]
    }
   ],
   "source": [
    "# accuracy\n",
    "test_predictions = np.array(test_predictions)\n",
    "test_labels = np.array(test_labels)\n",
    "test_accuracy = (test_predictions.squeeze() == test_labels.squeeze()).sum() / len(test_labels.squeeze())\n",
    "print('Test accuracy: {:.4f}'.format(test_accuracy))\n",
    "print(test_predictions.squeeze())\n",
    "print(test_labels.squeeze())\n"
   ]
  },
  {
   "cell_type": "code",
   "execution_count": 29,
   "metadata": {},
   "outputs": [
    {
     "data": {
      "text/plain": [
       "0.4897959183673469"
      ]
     },
     "execution_count": 29,
     "metadata": {},
     "output_type": "execute_result"
    }
   ],
   "source": [
    "sum(test_predictions.squeeze() == test_labels.squeeze()) / len(test_labels.squeeze())"
   ]
  }
 ],
 "metadata": {
  "kernelspec": {
   "display_name": "Python 3",
   "language": "python",
   "name": "python3"
  },
  "language_info": {
   "codemirror_mode": {
    "name": "ipython",
    "version": 3
   },
   "file_extension": ".py",
   "mimetype": "text/x-python",
   "name": "python",
   "nbconvert_exporter": "python",
   "pygments_lexer": "ipython3",
   "version": "3.9.6"
  },
  "orig_nbformat": 4
 },
 "nbformat": 4,
 "nbformat_minor": 2
}
