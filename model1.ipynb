{
 "cells": [
  {
   "cell_type": "code",
   "execution_count": 2,
   "metadata": {},
   "outputs": [
    {
     "name": "stdout",
     "output_type": "stream",
     "text": [
      "cuda\n"
     ]
    }
   ],
   "source": [
    "import os\n",
    "\n",
    "import numpy as np\n",
    "import torch\n",
    "from torch.utils.data import DataLoader\n",
    "\n",
    "# import Dataset from dataloader.py\n",
<<<<<<< HEAD
    "from dataloader import VideoAudioDataset, ResamplingSampler\n",
=======
    "from dataloader import VideoAudioDataset, VATransform, ResamplingSampler\n",
>>>>>>> a5d0e50e3029e197b4898376f9ea356bb6b9949c
    "\n",
    "# !! Put data file location in file `data_filepath`\n",
    "# If file `data_filepath` does not exist, assume data is located in root\n",
    "filepath = 'vis-data-256/vis-data-256/'\n",
    "\n",
    "if os.path.isfile('data_filepath'):\n",
    "    with open('data_filepath', 'r') as f:\n",
    "        filepath = f.readline() + filepath\n",
    "\n",
    "device = torch.device('cuda' if torch.cuda.is_available() else 'cpu')\n",
    "# device = torch.device('cpu')\n",
    "print(device)\n"
   ]
  },
  {
<<<<<<< HEAD
=======
   "cell_type": "code",
   "execution_count": 2,
   "metadata": {},
   "outputs": [],
   "source": [
    "train_dataset = np.load('datasets/train_dataset.npy')\n",
    "# dataset = VideoAudioDataset(train_dataset, device, filepath_prefix=filepath, transform=get_random_segment)"
   ]
  },
  {
>>>>>>> a5d0e50e3029e197b4898376f9ea356bb6b9949c
   "attachments": {},
   "cell_type": "markdown",
   "metadata": {},
   "source": [
    "# Model Example"
   ]
  },
  {
   "cell_type": "code",
   "execution_count": 3,
   "metadata": {},
   "outputs": [
    {
     "name": "stderr",
     "output_type": "stream",
     "text": [
      "c:\\Users\\gioef\\AppData\\Local\\Programs\\Python\\Python39\\lib\\site-packages\\torchaudio\\backend\\utils.py:74: UserWarning: No audio backend is available.\n",
      "  warnings.warn(\"No audio backend is available.\")\n",
      "c:\\Users\\gioef\\AppData\\Local\\Programs\\Python\\Python39\\lib\\site-packages\\torchvision\\models\\_utils.py:208: UserWarning: The parameter 'pretrained' is deprecated since 0.13 and may be removed in the future, please use 'weights' instead.\n",
      "  warnings.warn(\n",
      "c:\\Users\\gioef\\AppData\\Local\\Programs\\Python\\Python39\\lib\\site-packages\\torchvision\\models\\_utils.py:223: UserWarning: Arguments other than a weight enum or `None` for 'weights' are deprecated since 0.13 and may be removed in the future. The current behavior is equivalent to passing `weights=R3D_18_Weights.KINETICS400_V1`. You can also use `weights=R3D_18_Weights.DEFAULT` to get the most up-to-date weights.\n",
      "  warnings.warn(msg)\n",
      "Some weights of the model checkpoint at facebook/wav2vec2-base-960h were not used when initializing Wav2Vec2Model: ['lm_head.weight', 'lm_head.bias']\n",
      "- This IS expected if you are initializing Wav2Vec2Model from the checkpoint of a model trained on another task or with another architecture (e.g. initializing a BertForSequenceClassification model from a BertForPreTraining model).\n",
      "- This IS NOT expected if you are initializing Wav2Vec2Model from the checkpoint of a model that you expect to be exactly identical (initializing a BertForSequenceClassification model from a BertForSequenceClassification model).\n",
      "Some weights of Wav2Vec2Model were not initialized from the model checkpoint at facebook/wav2vec2-base-960h and are newly initialized: ['wav2vec2.masked_spec_embed']\n",
      "You should probably TRAIN this model on a down-stream task to be able to use it for predictions and inference.\n"
     ]
    }
   ],
   "source": [
    "from models import VideoAudioMatchingModel2\n",
    "\n",
    "model = VideoAudioMatchingModel2().to(device)"
   ]
  },
  {
   "cell_type": "code",
   "execution_count": 4,
   "metadata": {},
   "outputs": [
    {
     "name": "stdout",
     "output_type": "stream",
     "text": [
      "================================================================================\n",
      "Layer (type:depth-idx)                                  Param #\n",
      "================================================================================\n",
      "├─VideoResNet: 1-1                                      --\n",
      "|    └─BasicStem: 2-1                                   --\n",
      "|    |    └─Conv3d: 3-1                                 (28,224)\n",
      "|    |    └─BatchNorm3d: 3-2                            (128)\n",
      "|    |    └─ReLU: 3-3                                   --\n",
      "|    └─Sequential: 2-2                                  --\n",
      "|    |    └─BasicBlock: 3-4                             (221,440)\n",
      "|    |    └─BasicBlock: 3-5                             (221,440)\n",
      "|    └─Sequential: 2-3                                  --\n",
      "|    |    └─BasicBlock: 3-6                             (672,512)\n",
      "|    |    └─BasicBlock: 3-7                             (885,248)\n",
      "|    └─Sequential: 2-4                                  --\n",
      "|    |    └─BasicBlock: 3-8                             (2,688,512)\n",
      "|    |    └─BasicBlock: 3-9                             (3,539,968)\n",
      "|    └─Sequential: 2-5                                  --\n",
      "|    |    └─BasicBlock: 3-10                            (10,750,976)\n",
      "|    |    └─BasicBlock: 3-11                            (14,157,824)\n",
      "|    └─AdaptiveAvgPool3d: 2-6                           --\n",
      "|    └─Linear: 2-7                                      65,664\n",
      "├─Dropout: 1-2                                          --\n",
      "├─Wav2Vec2Model: 1-3                                    --\n",
      "|    └─Wav2Vec2FeatureEncoder: 2-8                      --\n",
      "|    |    └─ModuleList: 3-12                            (4,200,448)\n",
      "|    └─Wav2Vec2FeatureProjection: 2-9                   --\n",
      "|    |    └─LayerNorm: 3-13                             (1,024)\n",
      "|    |    └─Linear: 3-14                                (393,984)\n",
      "|    |    └─Dropout: 3-15                               --\n",
      "|    └─Wav2Vec2Encoder: 2-10                            --\n",
      "|    |    └─Wav2Vec2PositionalConvEmbedding: 3-16       (4,719,488)\n",
      "|    |    └─LayerNorm: 3-17                             (1,536)\n",
      "|    |    └─Dropout: 3-18                               --\n",
      "|    |    └─ModuleList: 3-19                            (85,054,464)\n",
      "├─Linear: 1-4                                           98,432\n",
      "├─Dropout: 1-5                                          --\n",
      "├─Sequential: 1-6                                       --\n",
      "|    └─Linear: 2-11                                     16,448\n",
      "|    └─ReLU: 2-12                                       --\n",
      "|    └─Dropout: 2-13                                    --\n",
      "|    └─Linear: 2-14                                     65\n",
      "================================================================================\n",
      "Total params: 127,717,825\n",
      "Trainable params: 180,609\n",
      "Non-trainable params: 127,537,216\n",
      "================================================================================\n"
     ]
    },
    {
     "data": {
      "text/plain": [
       "================================================================================\n",
       "Layer (type:depth-idx)                                  Param #\n",
       "================================================================================\n",
       "├─VideoResNet: 1-1                                      --\n",
       "|    └─BasicStem: 2-1                                   --\n",
       "|    |    └─Conv3d: 3-1                                 (28,224)\n",
       "|    |    └─BatchNorm3d: 3-2                            (128)\n",
       "|    |    └─ReLU: 3-3                                   --\n",
       "|    └─Sequential: 2-2                                  --\n",
       "|    |    └─BasicBlock: 3-4                             (221,440)\n",
       "|    |    └─BasicBlock: 3-5                             (221,440)\n",
       "|    └─Sequential: 2-3                                  --\n",
       "|    |    └─BasicBlock: 3-6                             (672,512)\n",
       "|    |    └─BasicBlock: 3-7                             (885,248)\n",
       "|    └─Sequential: 2-4                                  --\n",
       "|    |    └─BasicBlock: 3-8                             (2,688,512)\n",
       "|    |    └─BasicBlock: 3-9                             (3,539,968)\n",
       "|    └─Sequential: 2-5                                  --\n",
       "|    |    └─BasicBlock: 3-10                            (10,750,976)\n",
       "|    |    └─BasicBlock: 3-11                            (14,157,824)\n",
       "|    └─AdaptiveAvgPool3d: 2-6                           --\n",
       "|    └─Linear: 2-7                                      65,664\n",
       "├─Dropout: 1-2                                          --\n",
       "├─Wav2Vec2Model: 1-3                                    --\n",
       "|    └─Wav2Vec2FeatureEncoder: 2-8                      --\n",
       "|    |    └─ModuleList: 3-12                            (4,200,448)\n",
       "|    └─Wav2Vec2FeatureProjection: 2-9                   --\n",
       "|    |    └─LayerNorm: 3-13                             (1,024)\n",
       "|    |    └─Linear: 3-14                                (393,984)\n",
       "|    |    └─Dropout: 3-15                               --\n",
       "|    └─Wav2Vec2Encoder: 2-10                            --\n",
       "|    |    └─Wav2Vec2PositionalConvEmbedding: 3-16       (4,719,488)\n",
       "|    |    └─LayerNorm: 3-17                             (1,536)\n",
       "|    |    └─Dropout: 3-18                               --\n",
       "|    |    └─ModuleList: 3-19                            (85,054,464)\n",
       "├─Linear: 1-4                                           98,432\n",
       "├─Dropout: 1-5                                          --\n",
       "├─Sequential: 1-6                                       --\n",
       "|    └─Linear: 2-11                                     16,448\n",
       "|    └─ReLU: 2-12                                       --\n",
       "|    └─Dropout: 2-13                                    --\n",
       "|    └─Linear: 2-14                                     65\n",
       "================================================================================\n",
       "Total params: 127,717,825\n",
       "Trainable params: 180,609\n",
       "Non-trainable params: 127,537,216\n",
       "================================================================================"
      ]
     },
     "execution_count": 4,
     "metadata": {},
     "output_type": "execute_result"
    }
   ],
   "source": [
    "from torchsummary import summary\n",
    "\n",
    "summary(model)"
   ]
  },
  {
   "cell_type": "code",
   "execution_count": 5,
   "metadata": {},
   "outputs": [],
   "source": [
    "video, audio, label = dataset[0]\n",
    "video = video.unsqueeze(0)\n",
    "audio = audio.unsqueeze(0)\n",
    "video = video.to(device)\n",
    "audio = audio.to(device)"
   ]
  },
  {
   "cell_type": "code",
   "execution_count": 6,
   "metadata": {},
   "outputs": [
    {
     "data": {
      "text/plain": [
       "(torch.Size([1, 3, 3, 52, 92]), torch.Size([1, 48000]))"
      ]
     },
     "execution_count": 6,
     "metadata": {},
     "output_type": "execute_result"
    }
   ],
   "source": [
    "video.shape, audio.shape"
   ]
  },
  {
   "attachments": {},
   "cell_type": "markdown",
   "metadata": {},
   "source": [
    "# Training Loop"
   ]
  },
  {
   "cell_type": "code",
   "execution_count": 51,
   "metadata": {},
   "outputs": [],
   "source": [
    "train_dataset = np.load('datasets/train_dataset.npy')\n",
    "# remove 2015-09-12-04-15-35-1_mic.wav row\n",
    "train_dataset = train_dataset[train_dataset[:, 1] != '2015-09-12-04-15-35-1_mic.wav']\n",
    "\n",
    "val_dataset = np.load('datasets/val_dataset.npy')\n",
    "test_dataset = np.load('datasets/test_dataset.npy')\n",
    "\n",
    "transform_args = {'random_segment_seconds': 1, 'downsample_frames': 6, 'downsample_factor': 5}\n",
    "\n",
    "train_dataset_cls = VideoAudioDataset(train_dataset, device, filepath_prefix=filepath, transform=VideoAudioDataset.Transform.RANDOM_SEGMENT, **transform_args)\n",
    "val_dataset_cls = VideoAudioDataset(val_dataset, device, filepath_prefix=filepath, transform=VideoAudioDataset.Transform.RANDOM_SEGMENT, **transform_args)\n",
    "test_dataset_cls = VideoAudioDataset(test_dataset, device, filepath_prefix=filepath, transform=VideoAudioDataset.Transform.RANDOM_SEGMENT, **transform_args)\n",
    "\n",
    "train_sampler = ResamplingSampler(train_dataset_cls, batch_size=8, no_batches=4, replacement=True)\n",
    "\n",
    "train_dataloader = DataLoader(train_dataset_cls, batch_sampler=train_sampler)\n",
    "val_dataloader = DataLoader(val_dataset_cls, batch_size=4, shuffle=True)\n",
    "test_dataloader = DataLoader(test_dataset_cls, batch_size=1, shuffle=False)"
   ]
  },
  {
   "attachments": {},
   "cell_type": "markdown",
   "metadata": {},
   "source": [
    "# Test Loop"
   ]
  },
  {
   "cell_type": "code",
   "execution_count": 52,
   "metadata": {},
   "outputs": [],
   "source": [
    "i, (video, audio, label) = next(enumerate(train_dataloader))"
   ]
  },
  {
   "cell_type": "code",
   "execution_count": 54,
   "metadata": {},
   "outputs": [
    {
     "name": "stdout",
     "output_type": "stream",
     "text": [
      "torch.Size([8, 5, 3, 52, 92]) torch.Size([8, 96000]) torch.Size([8])\n"
     ]
    },
    {
     "data": {
      "text/plain": [
       "<matplotlib.image.AxesImage at 0x179545c32e0>"
      ]
     },
     "execution_count": 54,
     "metadata": {},
     "output_type": "execute_result"
    },
    {
     "data": {
      "image/png": "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",
      "text/plain": [
       "<Figure size 432x288 with 1 Axes>"
      ]
     },
     "metadata": {
      "needs_background": "light"
     },
     "output_type": "display_data"
    }
   ],
   "source": [
    "print(video.shape, audio.shape, label.shape)\n",
    "\n",
<<<<<<< HEAD
    "# plot frame of video\n",
    "import matplotlib.pyplot as plt\n",
    "plt.imshow(video[3, 4, :, :, :].cpu().numpy().transpose(1, 2, 0))\n",
=======
    "transforms = [VATransform.RANDOM_SEGMENT, \n",
    "              VATransform.IMG_DOWNSAMPLE]\n",
    "\n",
    "transform_args = {'img_downsample_factor': 5}\n",
    "\n",
    "train_dataset_cls = VideoAudioDataset(train_dataset, device, filepath_prefix=filepath, transform=transforms)\n",
    "val_dataset_cls = VideoAudioDataset(val_dataset, device, filepath_prefix=filepath, transform=transforms)\n",
    "test_dataset_cls = VideoAudioDataset(test_dataset, device, filepath_prefix=filepath, transform=transforms)\n",
>>>>>>> a5d0e50e3029e197b4898376f9ea356bb6b9949c
    "\n",
    "# # histogram of video values\n",
    "# plt.hist(video[4, 0, 0, :, :].cpu().numpy().flatten())\n",
    "# plt.show()\n"
   ]
  },
  {
   "cell_type": "code",
   "execution_count": 9,
   "metadata": {},
   "outputs": [
    {
     "name": "stderr",
     "output_type": "stream",
     "text": [
      "Some weights of the model checkpoint at facebook/wav2vec2-base-960h were not used when initializing Wav2Vec2Model: ['lm_head.weight', 'lm_head.bias']\n",
      "- This IS expected if you are initializing Wav2Vec2Model from the checkpoint of a model trained on another task or with another architecture (e.g. initializing a BertForSequenceClassification model from a BertForPreTraining model).\n",
      "- This IS NOT expected if you are initializing Wav2Vec2Model from the checkpoint of a model that you expect to be exactly identical (initializing a BertForSequenceClassification model from a BertForSequenceClassification model).\n",
      "Some weights of Wav2Vec2Model were not initialized from the model checkpoint at facebook/wav2vec2-base-960h and are newly initialized: ['wav2vec2.masked_spec_embed']\n",
      "You should probably TRAIN this model on a down-stream task to be able to use it for predictions and inference.\n"
     ]
    },
    {
     "name": "stdout",
     "output_type": "stream",
     "text": [
      "Epoch [1/60], Step [4/4], Loss: 0.6983\n",
      "Epoch [1/60], Train Loss: 0.6983, Train Acc: 0.3438, Val Loss: 0.6824, Val Acc: 0.6531\n",
      "Epoch [2/60], Step [4/4], Loss: 0.6743\n",
      "Epoch [2/60], Train Loss: 0.6743, Train Acc: 0.5938, Val Loss: 0.6871, Val Acc: 0.6020\n",
      "Epoch [3/60], Step [4/4], Loss: 0.7000\n",
      "Epoch [3/60], Train Loss: 0.7000, Train Acc: 0.3750, Val Loss: 0.6950, Val Acc: 0.4796\n",
      "Epoch [4/60], Step [4/4], Loss: 0.6778\n",
      "Epoch [4/60], Train Loss: 0.6778, Train Acc: 0.5625, Val Loss: 0.6977, Val Acc: 0.3878\n",
      "Epoch [5/60], Step [4/4], Loss: 0.6915\n",
      "Epoch [5/60], Train Loss: 0.6915, Train Acc: 0.5625, Val Loss: 0.7013, Val Acc: 0.3878\n"
     ]
    },
    {
     "ename": "KeyboardInterrupt",
     "evalue": "",
     "output_type": "error",
     "traceback": [
      "\u001b[1;31m---------------------------------------------------------------------------\u001b[0m",
      "\u001b[1;31mKeyboardInterrupt\u001b[0m                         Traceback (most recent call last)",
      "\u001b[1;32m~\\AppData\\Local\\Temp/ipykernel_16820/3372045659.py\u001b[0m in \u001b[0;36m<module>\u001b[1;34m\u001b[0m\n\u001b[0;32m     27\u001b[0m \u001b[1;33m\u001b[0m\u001b[0m\n\u001b[0;32m     28\u001b[0m \u001b[1;33m\u001b[0m\u001b[0m\n\u001b[1;32m---> 29\u001b[1;33m     \u001b[1;32mfor\u001b[0m \u001b[0mbatch_idx\u001b[0m\u001b[1;33m,\u001b[0m \u001b[1;33m(\u001b[0m\u001b[0mvideo\u001b[0m\u001b[1;33m,\u001b[0m \u001b[0maudio\u001b[0m\u001b[1;33m,\u001b[0m \u001b[0mlabel\u001b[0m\u001b[1;33m)\u001b[0m \u001b[1;32min\u001b[0m \u001b[0menumerate\u001b[0m\u001b[1;33m(\u001b[0m\u001b[0mtrain_dataloader\u001b[0m\u001b[1;33m)\u001b[0m\u001b[1;33m:\u001b[0m\u001b[1;33m\u001b[0m\u001b[1;33m\u001b[0m\u001b[0m\n\u001b[0m\u001b[0;32m     30\u001b[0m         \u001b[0mvideo\u001b[0m \u001b[1;33m=\u001b[0m \u001b[0mvideo\u001b[0m\u001b[1;33m.\u001b[0m\u001b[0mto\u001b[0m\u001b[1;33m(\u001b[0m\u001b[0mdevice\u001b[0m\u001b[1;33m)\u001b[0m\u001b[1;33m\u001b[0m\u001b[1;33m\u001b[0m\u001b[0m\n\u001b[0;32m     31\u001b[0m         \u001b[0maudio\u001b[0m \u001b[1;33m=\u001b[0m \u001b[0maudio\u001b[0m\u001b[1;33m.\u001b[0m\u001b[0mto\u001b[0m\u001b[1;33m(\u001b[0m\u001b[0mdevice\u001b[0m\u001b[1;33m)\u001b[0m\u001b[1;33m\u001b[0m\u001b[1;33m\u001b[0m\u001b[0m\n",
      "\u001b[1;32mc:\\Users\\gioef\\AppData\\Local\\Programs\\Python\\Python39\\lib\\site-packages\\torch\\utils\\data\\dataloader.py\u001b[0m in \u001b[0;36m__next__\u001b[1;34m(self)\u001b[0m\n\u001b[0;32m    632\u001b[0m                 \u001b[1;31m# TODO(https://github.com/pytorch/pytorch/issues/76750)\u001b[0m\u001b[1;33m\u001b[0m\u001b[1;33m\u001b[0m\u001b[1;33m\u001b[0m\u001b[0m\n\u001b[0;32m    633\u001b[0m                 \u001b[0mself\u001b[0m\u001b[1;33m.\u001b[0m\u001b[0m_reset\u001b[0m\u001b[1;33m(\u001b[0m\u001b[1;33m)\u001b[0m  \u001b[1;31m# type: ignore[call-arg]\u001b[0m\u001b[1;33m\u001b[0m\u001b[1;33m\u001b[0m\u001b[0m\n\u001b[1;32m--> 634\u001b[1;33m             \u001b[0mdata\u001b[0m \u001b[1;33m=\u001b[0m \u001b[0mself\u001b[0m\u001b[1;33m.\u001b[0m\u001b[0m_next_data\u001b[0m\u001b[1;33m(\u001b[0m\u001b[1;33m)\u001b[0m\u001b[1;33m\u001b[0m\u001b[1;33m\u001b[0m\u001b[0m\n\u001b[0m\u001b[0;32m    635\u001b[0m             \u001b[0mself\u001b[0m\u001b[1;33m.\u001b[0m\u001b[0m_num_yielded\u001b[0m \u001b[1;33m+=\u001b[0m \u001b[1;36m1\u001b[0m\u001b[1;33m\u001b[0m\u001b[1;33m\u001b[0m\u001b[0m\n\u001b[0;32m    636\u001b[0m             \u001b[1;32mif\u001b[0m \u001b[0mself\u001b[0m\u001b[1;33m.\u001b[0m\u001b[0m_dataset_kind\u001b[0m \u001b[1;33m==\u001b[0m \u001b[0m_DatasetKind\u001b[0m\u001b[1;33m.\u001b[0m\u001b[0mIterable\u001b[0m \u001b[1;32mand\u001b[0m\u001b[0;31m \u001b[0m\u001b[0;31m\\\u001b[0m\u001b[1;33m\u001b[0m\u001b[1;33m\u001b[0m\u001b[0m\n",
      "\u001b[1;32mc:\\Users\\gioef\\AppData\\Local\\Programs\\Python\\Python39\\lib\\site-packages\\torch\\utils\\data\\dataloader.py\u001b[0m in \u001b[0;36m_next_data\u001b[1;34m(self)\u001b[0m\n\u001b[0;32m   1327\u001b[0m \u001b[1;33m\u001b[0m\u001b[0m\n\u001b[0;32m   1328\u001b[0m             \u001b[1;32massert\u001b[0m \u001b[1;32mnot\u001b[0m \u001b[0mself\u001b[0m\u001b[1;33m.\u001b[0m\u001b[0m_shutdown\u001b[0m \u001b[1;32mand\u001b[0m \u001b[0mself\u001b[0m\u001b[1;33m.\u001b[0m\u001b[0m_tasks_outstanding\u001b[0m \u001b[1;33m>\u001b[0m \u001b[1;36m0\u001b[0m\u001b[1;33m\u001b[0m\u001b[1;33m\u001b[0m\u001b[0m\n\u001b[1;32m-> 1329\u001b[1;33m             \u001b[0midx\u001b[0m\u001b[1;33m,\u001b[0m \u001b[0mdata\u001b[0m \u001b[1;33m=\u001b[0m \u001b[0mself\u001b[0m\u001b[1;33m.\u001b[0m\u001b[0m_get_data\u001b[0m\u001b[1;33m(\u001b[0m\u001b[1;33m)\u001b[0m\u001b[1;33m\u001b[0m\u001b[1;33m\u001b[0m\u001b[0m\n\u001b[0m\u001b[0;32m   1330\u001b[0m             \u001b[0mself\u001b[0m\u001b[1;33m.\u001b[0m\u001b[0m_tasks_outstanding\u001b[0m \u001b[1;33m-=\u001b[0m \u001b[1;36m1\u001b[0m\u001b[1;33m\u001b[0m\u001b[1;33m\u001b[0m\u001b[0m\n\u001b[0;32m   1331\u001b[0m             \u001b[1;32mif\u001b[0m \u001b[0mself\u001b[0m\u001b[1;33m.\u001b[0m\u001b[0m_dataset_kind\u001b[0m \u001b[1;33m==\u001b[0m \u001b[0m_DatasetKind\u001b[0m\u001b[1;33m.\u001b[0m\u001b[0mIterable\u001b[0m\u001b[1;33m:\u001b[0m\u001b[1;33m\u001b[0m\u001b[1;33m\u001b[0m\u001b[0m\n",
      "\u001b[1;32mc:\\Users\\gioef\\AppData\\Local\\Programs\\Python\\Python39\\lib\\site-packages\\torch\\utils\\data\\dataloader.py\u001b[0m in \u001b[0;36m_get_data\u001b[1;34m(self)\u001b[0m\n\u001b[0;32m   1293\u001b[0m         \u001b[1;32melse\u001b[0m\u001b[1;33m:\u001b[0m\u001b[1;33m\u001b[0m\u001b[1;33m\u001b[0m\u001b[0m\n\u001b[0;32m   1294\u001b[0m             \u001b[1;32mwhile\u001b[0m \u001b[1;32mTrue\u001b[0m\u001b[1;33m:\u001b[0m\u001b[1;33m\u001b[0m\u001b[1;33m\u001b[0m\u001b[0m\n\u001b[1;32m-> 1295\u001b[1;33m                 \u001b[0msuccess\u001b[0m\u001b[1;33m,\u001b[0m \u001b[0mdata\u001b[0m \u001b[1;33m=\u001b[0m \u001b[0mself\u001b[0m\u001b[1;33m.\u001b[0m\u001b[0m_try_get_data\u001b[0m\u001b[1;33m(\u001b[0m\u001b[1;33m)\u001b[0m\u001b[1;33m\u001b[0m\u001b[1;33m\u001b[0m\u001b[0m\n\u001b[0m\u001b[0;32m   1296\u001b[0m                 \u001b[1;32mif\u001b[0m \u001b[0msuccess\u001b[0m\u001b[1;33m:\u001b[0m\u001b[1;33m\u001b[0m\u001b[1;33m\u001b[0m\u001b[0m\n\u001b[0;32m   1297\u001b[0m                     \u001b[1;32mreturn\u001b[0m \u001b[0mdata\u001b[0m\u001b[1;33m\u001b[0m\u001b[1;33m\u001b[0m\u001b[0m\n",
      "\u001b[1;32mc:\\Users\\gioef\\AppData\\Local\\Programs\\Python\\Python39\\lib\\site-packages\\torch\\utils\\data\\dataloader.py\u001b[0m in \u001b[0;36m_try_get_data\u001b[1;34m(self, timeout)\u001b[0m\n\u001b[0;32m   1131\u001b[0m         \u001b[1;31m#   (bool: whether successfully get data, any: data if successful else None)\u001b[0m\u001b[1;33m\u001b[0m\u001b[1;33m\u001b[0m\u001b[1;33m\u001b[0m\u001b[0m\n\u001b[0;32m   1132\u001b[0m         \u001b[1;32mtry\u001b[0m\u001b[1;33m:\u001b[0m\u001b[1;33m\u001b[0m\u001b[1;33m\u001b[0m\u001b[0m\n\u001b[1;32m-> 1133\u001b[1;33m             \u001b[0mdata\u001b[0m \u001b[1;33m=\u001b[0m \u001b[0mself\u001b[0m\u001b[1;33m.\u001b[0m\u001b[0m_data_queue\u001b[0m\u001b[1;33m.\u001b[0m\u001b[0mget\u001b[0m\u001b[1;33m(\u001b[0m\u001b[0mtimeout\u001b[0m\u001b[1;33m=\u001b[0m\u001b[0mtimeout\u001b[0m\u001b[1;33m)\u001b[0m\u001b[1;33m\u001b[0m\u001b[1;33m\u001b[0m\u001b[0m\n\u001b[0m\u001b[0;32m   1134\u001b[0m             \u001b[1;32mreturn\u001b[0m \u001b[1;33m(\u001b[0m\u001b[1;32mTrue\u001b[0m\u001b[1;33m,\u001b[0m \u001b[0mdata\u001b[0m\u001b[1;33m)\u001b[0m\u001b[1;33m\u001b[0m\u001b[1;33m\u001b[0m\u001b[0m\n\u001b[0;32m   1135\u001b[0m         \u001b[1;32mexcept\u001b[0m \u001b[0mException\u001b[0m \u001b[1;32mas\u001b[0m \u001b[0me\u001b[0m\u001b[1;33m:\u001b[0m\u001b[1;33m\u001b[0m\u001b[1;33m\u001b[0m\u001b[0m\n",
      "\u001b[1;32mc:\\Users\\gioef\\AppData\\Local\\Programs\\Python\\Python39\\lib\\multiprocessing\\queues.py\u001b[0m in \u001b[0;36mget\u001b[1;34m(self, block, timeout)\u001b[0m\n\u001b[0;32m    111\u001b[0m                 \u001b[1;32mif\u001b[0m \u001b[0mblock\u001b[0m\u001b[1;33m:\u001b[0m\u001b[1;33m\u001b[0m\u001b[1;33m\u001b[0m\u001b[0m\n\u001b[0;32m    112\u001b[0m                     \u001b[0mtimeout\u001b[0m \u001b[1;33m=\u001b[0m \u001b[0mdeadline\u001b[0m \u001b[1;33m-\u001b[0m \u001b[0mtime\u001b[0m\u001b[1;33m.\u001b[0m\u001b[0mmonotonic\u001b[0m\u001b[1;33m(\u001b[0m\u001b[1;33m)\u001b[0m\u001b[1;33m\u001b[0m\u001b[1;33m\u001b[0m\u001b[0m\n\u001b[1;32m--> 113\u001b[1;33m                     \u001b[1;32mif\u001b[0m \u001b[1;32mnot\u001b[0m \u001b[0mself\u001b[0m\u001b[1;33m.\u001b[0m\u001b[0m_poll\u001b[0m\u001b[1;33m(\u001b[0m\u001b[0mtimeout\u001b[0m\u001b[1;33m)\u001b[0m\u001b[1;33m:\u001b[0m\u001b[1;33m\u001b[0m\u001b[1;33m\u001b[0m\u001b[0m\n\u001b[0m\u001b[0;32m    114\u001b[0m                         \u001b[1;32mraise\u001b[0m \u001b[0mEmpty\u001b[0m\u001b[1;33m\u001b[0m\u001b[1;33m\u001b[0m\u001b[0m\n\u001b[0;32m    115\u001b[0m                 \u001b[1;32melif\u001b[0m \u001b[1;32mnot\u001b[0m \u001b[0mself\u001b[0m\u001b[1;33m.\u001b[0m\u001b[0m_poll\u001b[0m\u001b[1;33m(\u001b[0m\u001b[1;33m)\u001b[0m\u001b[1;33m:\u001b[0m\u001b[1;33m\u001b[0m\u001b[1;33m\u001b[0m\u001b[0m\n",
      "\u001b[1;32mc:\\Users\\gioef\\AppData\\Local\\Programs\\Python\\Python39\\lib\\multiprocessing\\connection.py\u001b[0m in \u001b[0;36mpoll\u001b[1;34m(self, timeout)\u001b[0m\n\u001b[0;32m    260\u001b[0m         \u001b[0mself\u001b[0m\u001b[1;33m.\u001b[0m\u001b[0m_check_closed\u001b[0m\u001b[1;33m(\u001b[0m\u001b[1;33m)\u001b[0m\u001b[1;33m\u001b[0m\u001b[1;33m\u001b[0m\u001b[0m\n\u001b[0;32m    261\u001b[0m         \u001b[0mself\u001b[0m\u001b[1;33m.\u001b[0m\u001b[0m_check_readable\u001b[0m\u001b[1;33m(\u001b[0m\u001b[1;33m)\u001b[0m\u001b[1;33m\u001b[0m\u001b[1;33m\u001b[0m\u001b[0m\n\u001b[1;32m--> 262\u001b[1;33m         \u001b[1;32mreturn\u001b[0m \u001b[0mself\u001b[0m\u001b[1;33m.\u001b[0m\u001b[0m_poll\u001b[0m\u001b[1;33m(\u001b[0m\u001b[0mtimeout\u001b[0m\u001b[1;33m)\u001b[0m\u001b[1;33m\u001b[0m\u001b[1;33m\u001b[0m\u001b[0m\n\u001b[0m\u001b[0;32m    263\u001b[0m \u001b[1;33m\u001b[0m\u001b[0m\n\u001b[0;32m    264\u001b[0m     \u001b[1;32mdef\u001b[0m \u001b[0m__enter__\u001b[0m\u001b[1;33m(\u001b[0m\u001b[0mself\u001b[0m\u001b[1;33m)\u001b[0m\u001b[1;33m:\u001b[0m\u001b[1;33m\u001b[0m\u001b[1;33m\u001b[0m\u001b[0m\n",
      "\u001b[1;32mc:\\Users\\gioef\\AppData\\Local\\Programs\\Python\\Python39\\lib\\multiprocessing\\connection.py\u001b[0m in \u001b[0;36m_poll\u001b[1;34m(self, timeout)\u001b[0m\n\u001b[0;32m    333\u001b[0m                         _winapi.PeekNamedPipe(self._handle)[0] != 0):\n\u001b[0;32m    334\u001b[0m                 \u001b[1;32mreturn\u001b[0m \u001b[1;32mTrue\u001b[0m\u001b[1;33m\u001b[0m\u001b[1;33m\u001b[0m\u001b[0m\n\u001b[1;32m--> 335\u001b[1;33m             \u001b[1;32mreturn\u001b[0m \u001b[0mbool\u001b[0m\u001b[1;33m(\u001b[0m\u001b[0mwait\u001b[0m\u001b[1;33m(\u001b[0m\u001b[1;33m[\u001b[0m\u001b[0mself\u001b[0m\u001b[1;33m]\u001b[0m\u001b[1;33m,\u001b[0m \u001b[0mtimeout\u001b[0m\u001b[1;33m)\u001b[0m\u001b[1;33m)\u001b[0m\u001b[1;33m\u001b[0m\u001b[1;33m\u001b[0m\u001b[0m\n\u001b[0m\u001b[0;32m    336\u001b[0m \u001b[1;33m\u001b[0m\u001b[0m\n\u001b[0;32m    337\u001b[0m         \u001b[1;32mdef\u001b[0m \u001b[0m_get_more_data\u001b[0m\u001b[1;33m(\u001b[0m\u001b[0mself\u001b[0m\u001b[1;33m,\u001b[0m \u001b[0mov\u001b[0m\u001b[1;33m,\u001b[0m \u001b[0mmaxsize\u001b[0m\u001b[1;33m)\u001b[0m\u001b[1;33m:\u001b[0m\u001b[1;33m\u001b[0m\u001b[1;33m\u001b[0m\u001b[0m\n",
      "\u001b[1;32mc:\\Users\\gioef\\AppData\\Local\\Programs\\Python\\Python39\\lib\\multiprocessing\\connection.py\u001b[0m in \u001b[0;36mwait\u001b[1;34m(object_list, timeout)\u001b[0m\n\u001b[0;32m    882\u001b[0m                         \u001b[0mtimeout\u001b[0m \u001b[1;33m=\u001b[0m \u001b[1;36m0\u001b[0m\u001b[1;33m\u001b[0m\u001b[1;33m\u001b[0m\u001b[0m\n\u001b[0;32m    883\u001b[0m \u001b[1;33m\u001b[0m\u001b[0m\n\u001b[1;32m--> 884\u001b[1;33m             \u001b[0mready_handles\u001b[0m \u001b[1;33m=\u001b[0m \u001b[0m_exhaustive_wait\u001b[0m\u001b[1;33m(\u001b[0m\u001b[0mwaithandle_to_obj\u001b[0m\u001b[1;33m.\u001b[0m\u001b[0mkeys\u001b[0m\u001b[1;33m(\u001b[0m\u001b[1;33m)\u001b[0m\u001b[1;33m,\u001b[0m \u001b[0mtimeout\u001b[0m\u001b[1;33m)\u001b[0m\u001b[1;33m\u001b[0m\u001b[1;33m\u001b[0m\u001b[0m\n\u001b[0m\u001b[0;32m    885\u001b[0m         \u001b[1;32mfinally\u001b[0m\u001b[1;33m:\u001b[0m\u001b[1;33m\u001b[0m\u001b[1;33m\u001b[0m\u001b[0m\n\u001b[0;32m    886\u001b[0m             \u001b[1;31m# request that overlapped reads stop\u001b[0m\u001b[1;33m\u001b[0m\u001b[1;33m\u001b[0m\u001b[1;33m\u001b[0m\u001b[0m\n",
      "\u001b[1;32mc:\\Users\\gioef\\AppData\\Local\\Programs\\Python\\Python39\\lib\\multiprocessing\\connection.py\u001b[0m in \u001b[0;36m_exhaustive_wait\u001b[1;34m(handles, timeout)\u001b[0m\n\u001b[0;32m    814\u001b[0m         \u001b[0mready\u001b[0m \u001b[1;33m=\u001b[0m \u001b[1;33m[\u001b[0m\u001b[1;33m]\u001b[0m\u001b[1;33m\u001b[0m\u001b[1;33m\u001b[0m\u001b[0m\n\u001b[0;32m    815\u001b[0m         \u001b[1;32mwhile\u001b[0m \u001b[0mL\u001b[0m\u001b[1;33m:\u001b[0m\u001b[1;33m\u001b[0m\u001b[1;33m\u001b[0m\u001b[0m\n\u001b[1;32m--> 816\u001b[1;33m             \u001b[0mres\u001b[0m \u001b[1;33m=\u001b[0m \u001b[0m_winapi\u001b[0m\u001b[1;33m.\u001b[0m\u001b[0mWaitForMultipleObjects\u001b[0m\u001b[1;33m(\u001b[0m\u001b[0mL\u001b[0m\u001b[1;33m,\u001b[0m \u001b[1;32mFalse\u001b[0m\u001b[1;33m,\u001b[0m \u001b[0mtimeout\u001b[0m\u001b[1;33m)\u001b[0m\u001b[1;33m\u001b[0m\u001b[1;33m\u001b[0m\u001b[0m\n\u001b[0m\u001b[0;32m    817\u001b[0m             \u001b[1;32mif\u001b[0m \u001b[0mres\u001b[0m \u001b[1;33m==\u001b[0m \u001b[0mWAIT_TIMEOUT\u001b[0m\u001b[1;33m:\u001b[0m\u001b[1;33m\u001b[0m\u001b[1;33m\u001b[0m\u001b[0m\n\u001b[0;32m    818\u001b[0m                 \u001b[1;32mbreak\u001b[0m\u001b[1;33m\u001b[0m\u001b[1;33m\u001b[0m\u001b[0m\n",
      "\u001b[1;31mKeyboardInterrupt\u001b[0m: "
     ]
    }
   ],
   "source": [
    "from models import VideoAudioMatchingModel2\n",
    "\n",
    "model = VideoAudioMatchingModel2().to(device)\n",
    "\n",
    "# train\n",
    "optimizer = torch.optim.Adam(model.parameters(), lr=1e-5, weight_decay=1e-4)\n",
    "criterion = torch.nn.BCELoss()\n",
    "no_epochs = 15*4\n",
    "accumulate_gradients = 4  # Number of mini-batches to accumulate gradients over\n",
    "train_losses = []\n",
    "val_losses = []\n",
    "train_accuracies = []\n",
    "val_accuracies = []\n",
    "\n",
    "# Early stopping parameters\n",
    "patience = 5  # Number of epochs to wait for improvement before stopping\n",
    "best_val_loss = float('inf')  # Initialize best validation loss\n",
    "patience_counter = 0  # Initialize patience counter\n",
    "\n",
    "\n",
    "model.train()\n",
    "for epoch in range(no_epochs):\n",
    "\n",
    "    running_loss = 0\n",
    "    running_corrects = 0\n",
    "    total_samples = 0\n",
    "\n",
    "\n",
    "    for batch_idx, (video, audio, label) in enumerate(train_dataloader):\n",
    "        video = video.to(device)\n",
    "        audio = audio.to(device)\n",
    "        label = label.to(device)\n",
    "\n",
    "        # Forward pass\n",
    "        outputs = model(video, audio).squeeze()  # (batch_size, 1) -> (batch_size)\n",
    "        loss = criterion(outputs, label.float())\n",
    "\n",
    "        # Backward and optimize\n",
    "        loss.backward()\n",
    "        running_loss += loss.item()\n",
    "        total_samples += label.size(0)\n",
    "\n",
    "        # Calculate accuracy\n",
    "        predictions = (outputs > 0.5).float()\n",
    "        running_corrects += (predictions == label.float()).sum().item()\n",
    "\n",
    "        if (batch_idx + 1) % accumulate_gradients == 0:\n",
    "            optimizer.step()\n",
    "            optimizer.zero_grad()\n",
    "            print('Epoch [{}/{}], Step [{}/{}], Loss: {:.4f}'.format(epoch + 1, no_epochs, batch_idx + 1, len(train_dataloader), running_loss / (batch_idx + 1)))\n",
    "\n",
    "    train_losses.append(running_loss / len(train_dataloader))\n",
    "    train_accuracies.append(running_corrects / total_samples)\n",
    "\n",
    "    running_val_loss = 0\n",
    "    running_val_corrects = 0\n",
    "    total_val_samples = 0\n",
    "\n",
    "    model.eval()\n",
    "    with torch.no_grad():\n",
    "        for batch_idx, (video, audio, label) in enumerate(val_dataloader):\n",
    "\n",
    "            video = video.to(device)\n",
    "            audio = audio.to(device)\n",
    "            label = label.to(device)\n",
    "\n",
    "            # Forward pass\n",
    "            outputs = model(video, audio).squeeze()  # (batch_size, 1) -> (batch_size)\n",
    "            loss = criterion(outputs, label.float())\n",
    "            running_val_loss += loss.item()\n",
    "            total_val_samples += label.size(0)\n",
    "\n",
    "            # Calculate accuracy\n",
    "            predictions = (outputs > 0.5).float()\n",
    "            running_val_corrects += (predictions == label.float()).sum().item()\n",
    "\n",
    "    val_losses.append(running_val_loss / len(val_dataloader))\n",
    "    val_accuracies.append(running_val_corrects / total_val_samples)\n",
    "\n",
    "    # print progress\n",
    "    print('Epoch [{}/{}], Train Loss: {:.4f}, Train Acc: {:.4f}, Val Loss: {:.4f}, Val Acc: {:.4f}'.format(epoch + 1, no_epochs, train_losses[-1], train_accuracies[-1], val_losses[-1], val_accuracies[-1]))\n",
    "\n",
    "    # Check for early stopping\n",
    "    if val_losses[-1] < best_val_loss:\n",
    "        best_val_loss = val_losses[-1]\n",
    "        torch.save(model.state_dict(), 'best_model.pt')  # Save the best model\n",
    "        patience_counter = 0  # Reset patience counter\n",
    "    else:\n",
    "        patience_counter += 1\n",
    "\n",
    "    if patience_counter >= patience:\n",
    "        print('Early stopping after {} epochs'.format(epoch + 1))\n",
    "        break\n",
    "\n",
    "    model.train()\n"
   ]
  },
  {
   "cell_type": "code",
   "execution_count": null,
   "metadata": {},
   "outputs": [
    {
     "data": {
      "image/png": "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",
      "text/plain": [
       "<Figure size 432x288 with 1 Axes>"
      ]
     },
     "metadata": {
      "needs_background": "light"
     },
     "output_type": "display_data"
    },
    {
     "data": {
      "image/png": "iVBORw0KGgoAAAANSUhEUgAAAXoAAAEICAYAAABRSj9aAAAAOXRFWHRTb2Z0d2FyZQBNYXRwbG90bGliIHZlcnNpb24zLjQuMywgaHR0cHM6Ly9tYXRwbG90bGliLm9yZy/MnkTPAAAACXBIWXMAAAsTAAALEwEAmpwYAABMEElEQVR4nO3dd3hUZfbA8e+Z9EY6JQUSSkInaEAUgdixAa4uyq5rlwV1xba2de3+VtdddXft3d1VEcsiKoiKNEWlRmpCJ4UkBFIhPXl/f9wZDJAySWbmzkzez/PkMXPn3pkDhpM77z33HFFKoWmapnkvi9kBaJqmac6lE72maZqX04le0zTNy+lEr2ma5uV0otc0TfNyOtFrmqZ5OZ3oNU3TvJxO9JpXEZFlIlIqIgFmx6Jp7kInes1riEgSMAFQwBQXvq+vq95L0zpDJ3rNm1wF/Ai8DVxt2ygiiSLyiYgUi8ghEXm+2XM3isg2EakUka0icpJ1uxKRgc32e1tEHrd+nyEieSJyj4gUAm+JSKSIfG59j1Lr9wnNjo8SkbdEZL/1+fnW7ZtF5OJm+/mJyEERGe2svySt+9GJXvMmVwHvWr/OE5FeIuIDfA7sA5KAeGAugIj8GnjYelwPjE8Bh+x8r95AFNAPmInxb+kt6+O+QDXwfLP9/wMEA8OAnsCz1u3/Bq5stt8FQIFSaoOdcWhau0T3utG8gYicDiwF+iilDopIFvAKxhn+Auv2huOOWQwsVEr9o4XXU8AgpdRO6+O3gTyl1AMikgF8BfRQStW0Ek8asFQpFSkifYB8IFopVXrcfnFANhCvlKoQkY+A1Uqpv3byr0LTTqDP6DVvcTXwlVLqoPXxe9ZticC+45O8VSKwq5PvV9w8yYtIsIi8IiL7RKQCWAFEWD9RJAIlxyd5AKXUfuB74FIRiQDOx/hEomkOoy8iaR5PRIKA6YCPdc0cIACIAIqAviLi20KyzwUGtPKyVRhLLTa9gbxmj4//KHwnkAqcopQqtJ7RbwDE+j5RIhKhlCpr4b3eAW7A+Pf4g1Iqv5WYNK1T9Bm95g2mAY3AUCDN+jUEWGl9rgB4UkRCRCRQRMZbj3sduEtEThbDQBHpZ30uE/iNiPiIyGRgUjsxhGGsy5eJSBTwkO0JpVQBsAh40XrR1k9EJjY7dj5wEjAHY81e0xxKJ3rNG1wNvKWUylFKFdq+MC6GzgAuBgYCORhn5ZcDKKU+BJ7AWOapxEi4UdbXnGM9rgz4rfW5tjwHBAEHMa4LfHnc878D6oEs4ABwm+0JpVQ18DGQDHxi/x9b0+yjL8ZqmhsQkQeBFKXUle3urGkdpNfoNc1k1qWe6zHO+jXN4fTSjaaZSERuxLhYu0gptcLseDTvpJduNE3TvJw+o9c0TfNybrdGHxMTo5KSkswOQ9M0zaOsW7fuoFIqtqXn3C7RJyUlsXbtWrPD0DRN8ygisq+15/TSjaZpmpfTiV7TNM3L6USvaZrm5XSi1zRN83I60Wuapnk5neg1TdO8nE70mqZpXk4nek3TNDfw0bo85q7Occpr25XoRWSyiGSLyE4RubeVfaaLyFYR2SIi7zXb3igimdavBY4KXNM0zZt8sCaHTzY4Z7hYu3fGWmdevgCcgzG0YY2ILFBKbW22zyDgPmC8UqpURHo2e4lqpVSaY8PWNE3zLrkl1YwfGOOU17bnjH4ssFMptVspVQfMBaYet8+NwAu24cdKqQOODVPTNM171TY0UlRZQ2JUkFNe355EH4/RL9smz7qtuRQgRUS+F5EfrTM2bQJFZK11+7SuhatpmuZ98kurUQoSI4Pb37kTHNXUzBcYBGQACcAKERlhnXjfTymVLyL9gW9FZJNSalfzg0VkJjAToG/fvg4KSdM0zTPklFQBkBjlnERvzxl9PpDY7HGCdVtzecACpVS9UmoPsB0j8aOUyrf+dzewDBh9/BsopV5VSqUrpdJjY1vssqlpmua1ckurAUxdulkDDBKRZBHxB64Ajq+emY9xNo+IxGAs5ewWkUgRCWi2fTywFU3TNO2ovJIq/H0s9AoLdMrrt7t0o5RqEJFbgMWAD/CmUmqLiDwKrFVKLbA+d66IbAUagT8qpQ6JyGnAKyLShPFL5cnm1Tqapmka5JZWER8ZhMUiTnl9u9bolVILgYXHbXuw2fcKuMP61XyfVcCIroepaZrmvXJLqkmIdM6yDeg7YzVN00yXW1pFXyddiAWd6DVN00xVWVNPWVW90ypuQCd6TdNa0tRodgTdRm6JteLGSTX0oBO9pmnNKQXfPAx/SYStn5odTbeQW2qroddr9JqmOVtjAyz4A3z3LASEwofXwLq3zY7K6+XabpbSZ/SapjlVfQ18eDVs+A9MvBtu3QADzoLP5sDKvxtn+ppT5JVWExrgS0Swn9Pew6sS/aHDtdQ26LVFTeuQmgp49zLI+hwmPwVn/gn8Q2DG+zBiOix5FBb/CZqazI7UK+WWVJEQGYSIc2rowYsS/Z6DRxj/1Ld8st45/Zw1zSsdLoZ3LoKcH+BXr8G4Wb885+MHl7wCp8yCH1+A+bOhsd68WL1UbmmVUytuwIsSfVJ0MIN6hvHK8l00NumPmZrWrtJ98OZ5ULwdZsyFkdNP3MdigclPwhkPwMa58MGVUFfl+li9lFKK3JJqp67PgxclehHh5jMGsPdQFQs3FZgdjqa5t6KtRpKvOghXfQqDzml9XxGY9Ee48O+wfTH891dQXeayUL3ZwcN1VNc3OrXiBrwo0QOcO7Q3A2JDeHHZLpS+eKRpLctdDW+db1xgvXYR9D3FvuPG3ACXvQl5a+HtC6Gy0LlxdgNHSyv1Gb39LBZh1qQBbCuoYFl2sdnhaJr72fEN/HsqBEfB9Yuh17COHT/8V/DbeVCyx/hEULLbOXF2E7lO7kNv41WJHmDa6HjiI4J4cdlOs0PRNPey6SN4/3KIHgjXLYbIpM69zoAz4erPoKYc3jgPCjc5NMzuJM/ah96ZDc3ACxO9n4+FGycks2ZvKav3lJgdjqa5h59ehY9vgMRxcM3nENqza6+XcLLxy8LHD966EPatckyc3UxuSRUxof6EBDhq2F/LvC7RA1w+pi/RIf76rF7TlIKl/weL/gipF8CVH0NguGNeOzbVSPahPeE/l0D2Ise8bjeSW1pFgpPX58FLE32Qvw/Xjk9iWXYxW/aXmx2OppmjqRG+uBOWPwVpV8L0f4OfgycYRSTCdV9CzyEw97eQ+b5jX9/L5ZZUO319Hrw00QP87tQkQgN8eWnZrvZ31jRv01BnLNWsfQNOuxWmPg8+TloeCIkx1uyTTof5s2DV8855Hy/T2KTYX1ZNopPX58GLE314kB9XjuvHwk0F7Dl4xOxwNM11ag8bF123fALnPArnPmbUwjtTQBj89kMYOhW++pPRAVOXOLepoLyahiblPmf0IjJZRLJFZKeI3NvKPtNFZKuIbBGR95ptv1pEdli/rnZU4Pa47vQkfH0svLJcn9Vr3URViVE+uXsZTH0Bxs9x3Xv7BsBlb8HJ1xodMD+7Vfe1b4Mr+tDbtPtZTkR8gBeAc4A8YI2ILGg+5FtEBgH3AeOVUqUi0tO6PQp4CEgHFLDOemyp4/8oJ+oZFsjl6YnMXZPDbWen0DvcORPWNc0tlOcbF0VL98Ll/4XBF7o+BosPXPSssZyz4mmoLoVfve74awNewBV96G3sOaMfC+xUSu1WStUBc4Gpx+1zI/CCLYErpQ5Yt58HfK2UKrE+9zUw2TGh22fmxP40KXh9pb6xQ/NiB3cYNzBV7IfffWJOkrcRgTMfMHrkbPvM6IxZU2FePG4qr6QKi0BchHsk+nggt9njPOu25lKAFBH5XkR+FJHJHTgWEZkpImtFZG1xsWPvaE2MCmbKqDjeW51D6ZE6h762prmF/PVGkm+ogWu/MC6KuoNxs+GSV40a+3cuNjplakfllFTRJzwIPx/nXyp11Dv4AoOADGAG8JqIRNh7sFLqVaVUulIqPTY21kEh/WJ2xgCq6hp5e9Veh7+2pplq9zIjifqHGDXtfUaZHdGxRl1u9LUvzoa3JkNZjtkRuY3c0mqn3xFrY0+izwcSmz1OsG5rLg9YoJSqV0rtAbZjJH57jnW6lF5hnDO0F2+v2svh2gZXv72mOceW+fDuryGiL1z3FUQPMDuilqWcB1fNhyPFRsuEA9vMjsgt5JY4vw+9jT2Jfg0wSESSRcQfuAJYcNw+8zHO5hGRGIylnN3AYuBcEYkUkUjgXOs2l7spYwDl1fW8/5M+o9A8nFJGS4MPr4G40XDtQujRx+yo2tZ3HFyzEFQTvDnZWLvvxhOrauobOVBZ65KKG7Aj0SulGoBbMBL0NmCeUmqLiDwqIlOsuy0GDonIVmAp8Eel1CGlVAnwGMYvizXAo9ZtLje6bySn9o/m9e9263GDmueqLIL3LjdaGgw6F343H4IizY7KPr2HGx0zQ3saA0xePAXW/xsaas2OzOVszcxcUXEDdq7RK6UWKqVSlFIDlFJPWLc9qJRaYP1eKaXuUEoNVUqNUErNbXbsm0qpgdavt5zzx7DPzWcMpKiiVo8b1DzTlvnw4jjYs9yY7TpjLvi75ozQYSKTYPYPcOkb4BsIC/4Az42Elc90q2EmttLKvm60dOM1xg+MZmRCOC8v30VDY/f92Kh5mOoy+PhG+PBqiOwHv19hzHa1eOg/Xx9fGHGZ8ef43XyjT86SR+DZYcYQ8nLvPxHLc1EfehsP/UnpHBHhpowB7DtUxcLNejqO5gF2LYWXToPNH0PGfXD910bXSG8gAgPOMC7U/n4FpJ4PP74E/xgJ/5sFRVvMjtBpckur8fe1EBsa4JL361aJHn4ZN/iSHjeoubO6Klh4N/xnGvgFww1fQ8a9Rv93b9RnFFz6OszJhDE3wtZPjV9w/70M9qz0ur45uSVVJEQGYbE4uQeRVbdL9BaLMDtjoB43qLmvvHXwykRY/QqcMgtmrYT4k82OyjUi+sL5T8LtW4y7awsy4Z2L4LUzYcv/vKZ3Tm5plcsqbqAbJnqAqWlxxEcE8cJSPZhEcyON9caQkDfOgfoquOpTOP8p8HNNZYZbCY6CiX+E2zYZvXNqyo1y0n+dDKtfMz7xeDCjD73r/r92y0RvGze4dp8eN6i5ieJseP1sY0jIiF/D7FXQP8PsqMznFwTp18Eta2D6fyA4GhbeBc8Nh2VPwpFDZkfYYRU19ZRX1+szelfQ4wY1t9DUBD+8CC9PMNoDTP83/OoVCIowOzL3YvGBoVPghm/g2kWQMAaW/cWo1Fn4R6Njp4fIdXHFDXTjRB/k78N1pyezLLuYzfl63KBmgrJc+PcUWHyfUX1y04/G4A6tdSLQ7zT4zQdw008w/FJY+xb8czR8eC3s32B2hO1yZR96m26b6AGuHNfPGDeoB5NorqSUMVv1pdOMxHTxP42bn8J6mR2ZZ+k5GKa9ALdthNP+ADu/gVcz4D+/gtJ9ZkfXql/O6PUavUvYxg0u0uMGNVc5ctC4/X/+LOg1DGZ9Bydf7fxRf96sR5wxMvH2zcZ/c1fDS+Nhw3/dsiwzt7SKsABfwoNcVyrbrRM9wPWnJ+Onxw1qrpC10GhhsOMrIyFd8wVEJZsdlfcIDDdGJ87+3qjL//RmmPtbt+uDn1tSRUJUMOLCX+7dPtHHhgUwPT2Rj9fnUVBebXY4mjeqqbAmnRkQ2htmLjMSksXH7Mi8U2Q/uPozOPcJYznnxXGQ9YXZUR2VW1pNoov60Nt0+0QPzccN7jE7FM3b7P0eXh4Pme/B6XfAjUuMJRs3V+/pvaAsFjjtFuOXao84mPsbmH+TUY9vIqUUeaVVLmtmZqMTPUaZ09RRcbz3kx436Hb2fueZXQ2bGuGrP8PbF4L4GCWBZz8Evq7pbdIV//lxHyMf/ooDFTVmh9J1vYbCDUtgwl3w8/vG2v2elaaFU3y4lpr6JpeWVoJO9EfNyhhAdX0jb+lxg+5j9zIjUX50nVteVGvT6ldh1T+NC62zvjMGb3iA7MJKHvt8K9X1jfyw2/NuRmqRrz+c9WdjCpePv9FS4cv7od71v8iOlla6sOIGdKI/yjZu8B09btA91NfA53cYPct3LYEtn5gdkf3K8+Hbx2Hg2XDRcxAQanZEdqmpb2TO3A30CPQlxN+HNXu97K7xxDFG36AxN8CPL8Crk2B/pktDyLP2oXdlDT3oRH8MPW7QjXz3DJTsgivehT5p8OV9nrOEs+huY+nmwr97VNnkX7/MJquwkqcvG8XJSVGs3VtqdkiO5x9i/H+58mNjvf71s2D509DompM7Ww19gjsmehGZLCLZIrJTRO5t4flrRKRYRDKtXzc0e66x2fbjZ826ldF9IzltQDSvrdTjBk11cAd896zR82Xg2XDxc8Zg6W8fMzuy9mUvgqzPYdLdxjQlD7F8ezFvfr+Hq0/txxmDezI2KZLsokrKq+rNDs05Bp5t9BMaOg2WPg5vngsHnd8OJbekmpjQAIL8XVtx1W6iFxEf4AXgfGAoMENEhraw6wdKqTTr1+vNtlc32z6lhePcyk0ZAzlQWcvH67x/yo1bUgo+v91oZnXe/xnb4kbD2Jmw5g2jha+7qjti9F2JHWLcqekhDh2u5a4Pf2ZQz1Duu2AIAOlJUSgFa/d52fJNc8FRcNkbcNmbcGgXvHy60RnTideDckurWl+fb2pyWpM2e87oxwI7lVK7lVJ1wFzAaxty2MYNvrJCjxs0xc9zYe9KOPthY4i0zRl/grDe8Nkcl33M7rBlf4HyXOMTiIcMCFFKcc/HmyivqucfV4wm0M8400xLjMDPR1jjjcs3xxt+qdFnKGm80RnzP5c4bZzhMX3o66qMCqAVTxsDVv6aBPOucsr72pPo44HcZo/zrNuOd6mIbBSRj0Qksdn2QBFZKyI/isi0lt5ARGZa91lbXGzuXWzGuMGBetygGapK4Ks/QcJYOOmaY58L7AHn/xWKNsFPL5kSXpsKNxldKE+6ymMqbADeW53DN9uKuHtyKkPjehzdHujnw8iECO+7INuaHn3gtx/Bhc9A7k/w0qmw8UOHnt03lOUzqnwZV5W/ZPTkeTLRqAD69nGjc+nQqZB+rcPerzlfB73OZ8D7SqlaEfk98A5wpvW5fkqpfBHpD3wrIpuUUsf0G1BKvQq8CpCenm56Hd25Q3sxsGcoLy7dycUj+7j0VuVu7es/GxfILn6u5cHXQy6GlMnGcI6h0yAi8cR9zNDUCJ/dBkGRcPYjZkdjt50HDvPY51uZMCiG68af2IohPSmSN7/bQ01949Ezfa8mAmOuN+YA/O/38MkNkP2FkfyDozr2Wk2NcGAr5Pxo/OLI/Qnfshye94OGAwGQmA6n3WqcFCSM6fjrd5A9Z/T5QPN/UQnWbUcppQ4ppWqtD18HTm72XL71v7uBZcDoLsTrEhaLMGvSALIKK1mafcDscLqHfauMJlSn3tz6naMicMHTxveL7nZdbO1Z9xbkrzWuKTj5H6yj1DU0MWfuBoL8fPjbr0e1OLt0bFIU9Y2Kn3PLXB+gmaIHwLVfwlkPwrbPrf2Jvm77mNpKY5D7sqeMpZ+nkow1/4V3wZ4V0CeNPSf/iWm1j7L68ky4dqFxA13KeS75mbHnjH4NMEhEkjES/BXAb5rvICJ9lFIF1odTgG3W7ZFAlfVMPwYYD/zVUcE709S0OJ79ejsvLt3FmYN1+1inaqgzzojD+8Kke9reN6KvMST7a+s/wiEXuSTEVlUWwTePQvIkGDnd3Fg64O9fZ7NlfwWv/O5kevUIbHGf9H5GAlqzt4RT+ke7Mjzz+fjChDth4DnwyUx49zI4+Vo493Hjvoiy3KNn6uT8CEWbQTUBAj2HGuv+fcdB4ilG9ZUIq9fkkKk2kRAT4fI/TruJXinVICK3AIsBH+BNpdQWEXkUWKuUWgDcKiJTgAagBLjGevgQ4BURacL49PCkUmqrE/4cDufnY2HmxP48tGALq/eUMDbZM87UPNKqf8LBbPjNPKPOuT3jboKfPzDO6vtPgoAw58fYmsX3QUO18fHeQ5b4Vu06yKsrdjNjbF/OG9a71f3Cg/1I7RXG6u5wQbY1fUYa/XKWPg6rnree2SuosC5q+AUbg9sn3AmJ4yAhvdXpYLkl1VgE+kS0/IvVmexao1dKLQQWHrftwWbf3wfc18Jxq4ARXYzRNNPTE/nnkh28sHQnY5PHmh2OdyrZbVQdDJlifIy1h4+fsY7/xrnGev3kvzg1xFbtXAKbP4aM+yBmoDkxdFBZVR13fPAzydEh/PmiIe3uPyY5kvkb9tPYpPBpYXmnW/ALNM7kU843ft5CY42k3vcU6DXc7gqr3NIq4iKC8PNx/X2q+s7YNtjGDS7frscNOoVS8MWdYPGD85/q2LGJY40KhZ9edvlt7ADUV8MXd0D0QDj9dte/fycopbj/f5s4eLiWf1wxmmD/9s/zxiRFcbi2gW0FFS6I0M0ljYdrv4Bfvw3jZhn3d3SgjDa3pMrlrQ9sdKJvx5Xj+hGmxw06x+aPYde3RsOpHnEdP/6shyA4Bj6/zahycKUVTxsDqS961iM6UgJ8tC6PhZsKuePcFEYkhNt1zJikX9bpta7JLa12eTMzG53o2xEe5MeVp/Zj4aYCdhcfNjsc71FdZvSviRttNJnqjKAIY9lm/wbjrllXOZAF3/8TRs2A5Imue98u2HvwCA8v2MIpyVH8fuIAu4+LiwgiPiLIO/veuFBNfSPFlbWmndE7qo7eq103Ppk3v9vDK8t389RlI80Ox63sO3SEl5fvoqGxY7c/XLL/GcYdOcg/ez1B/sebOx+AGsiNIen0XfwQT+8aQIVfTIcOT44N4YbT++Pva+c5T1OT0aIhINRYt/UA9Y1N3PZBJj4W4dnL0zq81j4mKZLvdx1CKaXvKemko10rXdyH3kYnejvYxg3OXZPDbecMok+4OR+/3NHH6/J4f3UuceH2VxIMa8pmXP2nfOhzAfPyo4GDXYphr7qO/zbdxvidT/OA3x/tPk4BH67L4/OfC/jHFWkM6mVH9U7mu5CzCqb8C0I69kvFLP9asoPM3DKe/81o4iI6/rM7JjmK+Zn7ySmpol+0HVVR2gnM6kNvoxO9nWZO7M97q3N4bcUeHry4pZ5u3dO2wkoG9gzlmzsm2XdAYz28+iBU9eHyW17hckeVRq7Yz5nfPs6qSxsh5Vy7D/t6axH3fLyRi/71HfdfMISrTu3X+lnrkYPG3bt9T4W0Kx0Tt5Ot2VvC80t3culJCVw0shPXQTBunAJYvadEJ/pOyjWpD72NXqO3k23c4PurcyjR4waPyi6sZHDvDiTrH18ybi45/ynH1r+fNgdiUmHhnUazKDudM7QXX942gdMGRPPQgi1c89aa1kfoffVn4w7Ii55tuUWDm6moqee2uZkkRAbz8JTOn5wMiA0lIthPX5DtgtySKgJ8LcSGmXPh3v1/Wt2Ibdzg23rcIACHaxvIKamyP9GX5RgdHlPON/rWOJKvv5GAy3JgecdKNXuGBfLmNWN4bNpwftpziPOeW8GXxze027MCfn7P6E/Ss/36c3fw4PzNFFbU8OzlaYQFdr6bpsUipPfz0kEkLpJbUk1CZJBp1zh0ou+AlF5hnKvHDR61vagSgMG9e7SzJ0bN/EJrf5oL/uqcu0iTxhtLKj88D0UduwFbRPjduH58/ocJxEcGMeu/67jno40cqW2AhlrjAmxkEky0/xqAmeZvyGd+5n5uPXMQJ/eL7PLrjU2OZPfBIxRX1ra/s3aCnJIq0y7Egk70HXbTGQMpr67nvZ/2mR2K6bIKjESfas8ZfdbnsH2RcRdpRF/nBXXuYxAYbq2t7/g8gYE9Q/lk9nhuyhjAvHW5XPDPlez/4i9waKcxgs7fvH+s9sotqeLP8zdzcr9Ibj7D/lLKtqRb1+nX6uWbTjmmD70JdKLvoLTECE4bEM3rK/d0+3GD2YUVhAb4khDZTiVBbaVxNt9rOIyb7dyggqOMssfcn2D9O516CX9fC3dPHswHM0+ld30+0eufJzvmHBqSz2z/YJM1NinumJeJAp67PA1fB91uPzwunEA/S/cYROJg5VX1VNY0mFZxAzrRd4oeN2jYVlhJau+w9tcdv30CKgvgoudcM3lp1AxImgDfPASHO99memxSJO/2+YAmH3+uzJvGZS//wN6DRxwYqOO9tGwna/aW8ujUYQ5dKvD3tZCW2I0GkTiQ2RU3oBN9p4wfGM2ohHDrjULdc9ygUsq+ipv9mbD6FaMvTeIYl8SGiNFNsq4KFv+p86+z6UN8960gaPIjPDjjTHYXH+aCf67kgzU5KCfOFe2szNwynv1mBxePiuOS0S0NgeuasUlRbNlfrq9PdVBuibk3S4FO9J0iIszOGEhOSRVfbCpo/wAvVFhRQ3l1fduJvqnRWCsPjjH60rhSbIrRbGzTPGMgREdVlRgtGuLTIf06Lh4Vx+LbJ5KWGME9H2/i9/9Z51ZltkdqG5gzdwO9ewTy+LThTqnuGJMcRZOCDTl6+aYjck2+KxZ0ou8027jBl5btcsuzO2fLKrRW3PRpo+JmzetGH5rJf2m1R7dTTbgTovobXSbrW6mNb803D0N1qXWsoTFGr094EP+9/hQeuHAIy7KLOe+5FSxzkwlkj3y2hZySKp6ZPorwIOcsj43uG4lFYM0evXzTEbkl1fQI9HXa/xd76ETfSRaLMLsbjxu0VdyktNY2oGI/LHkMBpxpTNsxg1+gsYRTshtW/t3+43J+NC7kjpsNvY8dp2CxCDdM6M+nt4wnKtifa95aw0Ofbqam3rwL8ws3FTBvbR43ZQxw6iSo0ABfhsWFs1qv03dIbqm5pZWgE32XTEmLIz4iiBeWdr+z+uzCCuIjglo/S1l0DzTVGyWJZjbCGnAGjJgO3z0Lxdvb37+x3qiZ75FglIK2YkifHnx6y3iuG5/MOz/s46J/fWfKzIKC8mru+2QTIxPCue3sFKe/35ikKDJzy6hr6J7XpjrDzD70NnYlehGZLCLZIrJTRO5t4flrRKRYRDKtXzc0e+5qEdlh/brakcGbzTZucN2+UlZ3s4+zWdaKmxZtXwzbFsDEu4ylE7Od94RR//757caNW2354Xk4sNUYQh4Q2uaugX4+PHjxUP5z/Vgqa+q55MXveWnZLhqbXPNLv6lJcccHP1PX0MQ/rhjtkslFY5IiqalvYvN+PYjHHkop8kzsQ2/T7k+GiPgALwDnA0OBGSLSUuOMD5RSadav163HRgEPAacAY4GHrAPDvcb09ESiQ/x5cVn3GUxS19DEruLDLV+IrTsCX9xl9J05bY7rg2tJaE84+xHY9x38/H7r+5XuhWVPweCLYPAFdr/8hEGxfDlnImcP6cVTX2bxm9d+JL+suutxt+O1lbv5YfchHp4ylOQY1zQb0zdOdUxxZS21DU2mL93Y071yLLBTKbUbQETmAlMBe+4xPw/4WilVYj32a2Ay0Ma/ti7Ynwm9R7q04ZRt3ODTi7PZnF/O8Hj7Jvd4st0HD1PfqFo+o1/+FJTnwDULjf4z7uKkq40kv/hPMOg8CDluLVsp4xeUxafjYw2ByBB/XvztSXy8Pp+HPt3M5OdW8PDFwzjJAe0HWpJXWsXfvspm8rDeTE9PdMp7tCQ2LIDkmBBW7yllpmfMXDGVO9TQg32JPh7IbfY4D+MM/XiXishEYDtwu1Iqt5VjHV/gC1C6D147E2IGwWl/gBG/dtmIt9+d2o+Xl+3ipWW7eOG3J7nkPc2UXdhKj5uiLfDDCzD6SqPvjDuxWIymZ69MhK8fhGkvHPv81vmw82s47y8QntCptxARLjs5gbFJUdw+L5M7P/y563G3oVePAP7yqxEub5Q1JimSr7YW0dSksHTXgeF2MrsPvY2j+tF/BryvlKoVkd8D7wB23y8uIjOBmQB9+3ayD0qPOLjkZfj+H/DpzfDt40bVxMnXGL1PnKhHoDFu8OXlu9hdfJj+sW2v7Xq6bQWV+PkI/WObLRc0NcFntxl/1+c8Zlpsbeo1DE69Bb5/DtJ+88svo5pyWHSv8Wlw7Mwuv03f6GA+mDmOpdnFRlM0JxmbHEVkiOs/NY1JimLe2jx2FR+2b1hLN2a7WSrBA87o84Hmnw0TrNuOUkodavbwdeCvzY7NOO7YZce/gVLqVeBVgPT09M5dyfLxg5HTjTP5Xd8aCf/rB2H508ZdmeNmd24AtZ2607jB7MIKBsSGHnvxb/3bkLcapr1k9JtxV5PugS2fGBdmZ31nLC99+zgcLoIZ74GPY859fH0snDO0l0Ney93YBoav3luiE307ckqqiA0LINDPx9Q47FnMXgMMEpFkEfEHrgAWNN9BRPo0ezgF2Gb9fjFwrohEWi/Cnmvd5jwiMPAsuHoBzFxuTBv64Xl4biTMvwkObGv/NTohNiyAy8ck8smGPArKnX8hzkxZhZUMaX6j1OEDxg1GSROMPjPuzD8YLvg7HMyGVf+A/HWw+jUYeyPEn2x2dB6hX3QwsWEB+sYpOxhdK80fPdpuoldKNQC3YCTobcA8pdQWEXlURKZYd7tVRLaIyM/ArcA11mNLgMcwflmsAR61XZh1ibg0uOxNuHUDpF8Hmz+BF8fBu9Nh7/ftl9p10I0T+tOk4LUVexz6uu6kvKqegvKaYy/ELr7f6Ctz4TPm1szbK+VcGDoVVvwN/jcbQnvBmQ+YHZXHEBHGJkXpTpZ2yC2pNr3iBuxco1dKLQQWHrftwWbf3we0eHeJUupN4M0uxNh1kUnGsItJ9xi35a9+Bd6+wDiDGz/HKKezdP2jVWJUMFPTjHGDt5w5kCgT1k9btORR4xebA1hqG/jQv4KUTWGw0w9UI+StMf5uY51/w47DTH4Kdn5rnNn/+h2nX8fxNulJkXyxqYD9ZdWdGjjeHdQ3NlFQXk3fKOfUn3RE97ozNiQaMu6B2zYbd2xWlcC8q+D5dFjzBtR3fcll9iTruMHv3eSsvnCTcft/baVRhdTFr8MNPtQqPwKDgo1tfsEw+ndw+h1m/0k7pkcfuPQ14xfU0KlmR+NxbOv0um1x6wrKamhS5pdWguOqbjyLfzCMuQFOvha2fWZcuP3iDlj6f3DKLBhzfacvKA6yjht8e9VeZk4aQGiAyX/FK/8OAT3g2oUOaSz2r/9tYmFZARuuO8czlmnaknq+8aV12JA+PQgN8GXN3hKmppl/xuqObDX0CSaXVkJ3O6M/nsUHhk2DG7+Fa76A+JNg6ePw7DCjV0tp58YF3nTGQCpqGswfN1i8HbbMNy40Oqh7ZFZBBam97Bg2onk1H4twUr9I1uzR6/StOdqH3g3O6Lt3orcRgaTT4bcfwuwfYOg0Yynnn6Pho+uhoGM3vqQlRjB+YDSvrdxjaldDvnsG/IJg3E0OebmmJsX2osPHVtxo3dbYpEiyiyopr6o3OxS3lFtahY9F6BMeaHYoOtGfoNdQuOQlmPMznHqT0aDrlYnw76mQt9bul7kpYyDFlbV8vD7PicG2oWQPbJxnVBuFxDjkJfPLqjlc22DfMHDN6x3te7NPr9O3JLekmriIQIfN7e0K8yNwV+HxxpDpO7YYDbEObIP//Mq4gGuH0wYY4wZfWb7bnHGD3z9nLE2deovDXvLosBGd6DWMT65+PqL707fCqKE3f9kGdKJvX2A4nH4bXPUp1FXaPcBCRLjpDJPGDZbnQ+Z7RjVMjz7t72+nrIIKoI1hI1q3Eujnw8iECNbqevoW5ZZU60TvcXoOMfqjrH7V7ou05wzpxSAzxg2u+heoJuMeAQfKKqqkX3QwIWZXEmluIz0pko15ZeZei3JD1XWNHDxca3ozMxud6Dsi434QH1j6hF27WyzCLOu4wW+zXDRu8PABWPc2jLwCIvs59KVtFTeaZjM2KYr6RkVmbpnZobiVPDcYCN6cTvQdER5vNEfb+IHdlTi/jBvc6Zqz+h9egMZaOP12h75sTX0jew4eaXsYuNbtpPfTg0hakuMmXSttdKLvqNNvg6Ao+Pohu3b387Hw+0n9WZ9Txk/ObgJVVWK0eBh2CcQMdOhL7zxwmCalL8RqxwoP9iO1Vxir9Tr9MY7W0OulGw8VGA4T/wi7lxrtkO0wPT2RmFAXjBv86RWoOwwT7nT4S+uKG601Y5IjWb+v1GWzcj1Bbmk1gX4WYkNdM/yoPTrRd8aY6yGin9Hvvqn90slAPx+uHZ/Miu3FbM530lDlmgr46WWjQVuvYQ5/+ayCCgL9LPSLds1sUs1zjEmK4nBtA9usVVmacUafGBnsNneQ60TfGb4BcNaDRsOwTR/adcjvTu1HWIAvLznrrH7tG1BT5pSzeYDsokpSeoXho0fHacfRDc5OlFvqHu2JbXSi76xhv4I+acZ0ovqadnfvEejH707tx8LNBewqPuzYWOqqYNXzMPBso1+PE2wrqNQVN1qL4iKCiI8I0oneSilFXol7DByx0Ym+sywWOOcRKM8xLoDa4brTk/H3sfDKcgef1a9/B6oOwoS7HPu6VgcP13LwcK1ufaC1akxSJGv2lrr2fhE3VV5dT2Vtgz6j9xr9M4yz6BVPQ3X7VQcxoQFcMSaR/23IZ3+Zg8YNNtQabZb7nQ79TnXMax4n23ohVjcz01ozJjmK4spa9h2qMjsU0+WWGP+23aW0EnSi77qzH4GacvjuWbt2v3Fif5SC11budsz7Z74HlQUw0Tln8/BLxY0+o9daM1av0x+VW+pepZVgZ6IXkckiki0iO0Xk3jb2u1RElIikWx8niUi1iGRav152VOBuo/dwGHUF/PgylOW2u3tCZDBT0uKYuzqXkiN1XXvvxnqjFXF8uvHpwkmyCiqICQ0gxk1KxTT3MyA2lIhgP53oaV5D70Fn9CLiA7wAnA8MBWaIyNAW9gsD5gA/HffULqVUmvVrlgNidj9n/Mn479L/s2t3h40b3PQRlOUYdf1OLOPKLqrU9fNamywWIb2fHhgOxhl9eJAfPQL9zA7lKHvO6McCO5VSu5VSdcBcoKUhm48BTwHtl6B4m4hEOOX38PP7ULi53d0H9QrjvGHGuMHKmk4ObWhqNDpp9hoBKed17jXs0NikyC7UiV5r39jkSPYcPEJxZa3ZoZgqt6TarZZtwL5EHw80X5PIs247SkROAhKVUl+0cHyyiGwQkeUiMqGlNxCRmSKyVkTWFhcX2xu7e5lwh3HX7DcP27X7TRm2cYM5nXu/rZ/CoR0w8U6nns3vO3SE2oYmvT6vtevoIJJuvnzjTn3obbp8MVZELMAzQEt36hQAfZVSo4E7gPdE5ITSDaXUq0qpdKVUemxsbFdDMkdQpHGz0s6vYffydncfZR03+Pp3nRg3qJRxNh+TAkOmdDJg+2TpihvNTsPjwgn0s3TrQSRNTYq8Eve6WQrsS/T5QGKzxwnWbTZhwHBgmYjsBcYBC0QkXSlVq5Q6BKCUWgfsAlIcEbhbGjsTwhPtbo1wc2fHDW7/Eoo2G79YLD6dDNY+WYWVWAQG9gx16vtons/f10JaYvceRHKgspa6xia3ulkK7Ev0a4BBIpIsIv7AFcAC25NKqXKlVIxSKkkplQT8CExRSq0VkVjrxVxEpD8wCHBQXaEb8guEMx+AgkzY8km7u586IJpRiRG8vHyX/eMGlTLq9iP6wfDLuhavHbIKKkiOCSHQz7m/UDTvMDYpii37yzlc22B2KKawlVYmeNoZvVKqAbgFWAxsA+YppbaIyKMi0t66wURgo4hkAh8Bs5RS3v25bsR04wLpkkeNm5naICLclDGA3JJq+8cN7l4K+euMfvM+zp/0ZFTc6GUbzT5jkqNoUrB+X/c8q7eVVvb1tEQPoJRaqJRKUUoNUEo9Yd32oFJqQQv7Ziil1lq//1gpNcxaWnmSUuozx4bvhmytEcr2wdo3293dNm7wxaW7aLKnzeuKv0FYnDHW0MmO1Daw71CVrrjR7Da6byQWMe+CbH1jk6lVP7a7YuMjPG/pRuuogWcZNzAt/6tx12wbbOMGs4sq2x9Msm8V7PvemAXr6/ybl7YX6TtitY4JDfBlWFy4KRdklVL84b0NnPPscqrrzJlhm1taRa8eAW631KkTvbOc/QhUlxh9aNoxeXhv/H0sLM1uZ67sir9BSCycdJWDgmyb7nGjdcaYpCg25JRR12DndScH+WBNLl9uKaSsqp5vthW59L1tbH3o3Y1O9M4SlwYjfg0/vAgV+9vcNSTAlzHJkSxrK9Hnr4NdS+DUW8DfNT9IWYWVhPj7uN3HUM29jUmKpLahic37nTRkpwW7iw/zyGdbOW1ANL17BPJpZn77BzlBnpv1obfRid6ZznwAVKNdrREmpcSyvehw610tV/wdAiOM6VYuklVYQWrvMCx62IjWAbYbp9Y4e0ayVV1DE3PmZuLva+GZ6WlMSYtjWXYxpV3tJdVB9Y1NFJRXu11pJehE71yRSTDmRsh8Fw5ktblrRmpPAJZvb+HO4MLNkP0FjJsNAa5ZL1dKkVVYSaquuNE6KDYsgOSYEJf1vXnum+1syi/nyV+NoHd4IFPT4mhoUvZXsjnI/rJqmpT7lVaCTvTON/Eu8A9rtzXCoJ6hxIUHtrx8s/LvxmuMnemcGFtwoLKWsqp6hvTRF2K1jhuTFMnafSX2VZJ1wY+7D/HS8l1MT0/g/BF9ABjapwcDe4a6fPnGVnGj1+i7o+AomHA7bF8Ee79vdTcRYVJqT77feejYi1gHd8CW/8HYG4zXchHboGc9PlDrjDFJUZRV1bPT0WMzmymvqueODzLpFxXMQxcPO7pdRJiWFseavaXklbpuEIo79qG30YneFU6ZBT3ijdYIbYxam5QSy+HaBtbnNPvI+92z4BsI4252QaC/sFXc6JultM5w9sBwpRR/mr+JospanrtiNCEBx948ODXN6Lv4aWbbhRCOlFtSha9F6BOuE3335BcEZ9wP+WuNrpOtGD8wGl+LsCzbuk5fug9+ngsnXwOhrm32llVYSZ/wQMKD3aentuY5+kUHExsW4LQLsv/bkM/nGwu4/exBpCVGnPB8YlQwJ/eL5NPMfJfNsc0trSYuIggfNyxe0IneVUbNgJ5DYckjxmSoFoQF+pGe1KzM8vvnjKZlp/3BdXFaZeke9FoXiAhjk5wziCTnUBUPfrqFMUmRzM4Y2Op+09Li2F50mG0FlQ6PocW4SqrcctkGdKJ3HYuPcRNVyW5Y93aru2Wk9iSrsJID+Xtgw38h7bcQHt/q/s5Q39jEzgO64kbrmvSkSPLLqslvrWS4Exoam7jtgw0I8OzlaW2ePV84Mg5fi7jsomyem94sBTrRu9agcyBpAix7EmpbPsvISDWWaMq++bsxRer021wYoGHPwSPUNyp9Rq91yRgnDCJ5fulO1ueU8fglw0loJ6lGhfgzMSWWBT/vd3r1z5HaBg4dqXPLm6VAJ3rXEjEanlUdhFX/anGX1F5hDA6rJWnvPBh5uVGL72K2ipvBurRS64IhfXoQGuDLaget06/bV8I/l+zgktHxRy+2tmdqWhwF5TXt95HqorxSa2mlTvQaAPEnw7BfGYm+svCEp0WEu8OX4KvqaDjtNtfHh1Fx42sR+sfoYSNa5/lYhJP6RTpkEEllTT23fZBJXEQQj0wd1v4BVucM7UWwv4/Tl29s7Ynd8a5Y0IneHGf92bggu+zJE5+rLmVi2f9Y2HgK66vMGauYVVjJwJ6h+PvqHw+ta8YmRZJdVElZVdfaETy0YAv5pdU8d3kaPQLtrwQL9vflvGG9WbipgNoG53W0/KWGXp/RazZR/SH9Olj/byjefuxzP72Kb8MRXmya1naTMyfKLqzUrYk1h/hlYHjnz+oX/LyfT9bnc8uZg46+XkdMTYujoqaBpVkttBdxkNySaoL8fIgO8Xfae3SFTvRmmXQ3+AUb5ZY2tZXw44uQegGhiWkt971xsvLqevLLqvWNUppDpCVG4OcjrNnXuTXy/LJq/vS/TYzuG8GtZ7ZeStmW0wfGEBPq79Tlm9xSo7RSxP1q6MHORC8ik0UkW0R2isi9bex3qYgoEUlvtu0+63HZInKeI4L2CiExcPocyPoccn40tq15A2rKYMJdTEqNZcv+Cg5U1rg0LNuwEV1xozlCoJ8PIxMiOnXjVGOT4vYPMmlqUjx3eRq+Pp07L/X1sXDRyDiWZB2goqble1i6yl370Nu0+zdnHe79AnA+MBSYISJDW9gvDJgD/NRs21CMYeLDgMnAi7Zh4Row7iYI7W20Rqirgh+eh/5nQMLJR8ssl2e79qw+S1fcaA6WnhTJpvxyauo7tkb+8vJdrN5TwiNTh9MvOqRLMUxNi6OuoYkvN59YANFVSim37UNvY8+vyLHATqXUbqVUHTAXmNrCfo8BTwHNT0GnAnOVUrVKqT3ATuvraQD+IXDGfZD7E3x4NRwphol/BIwOfLFhASxz8fJNVmElPQJ96d0j0KXvq3mvsUlR1DcqMnPL7D5mY14Zz369nQtH9OHSk7p+w2BaYgT9ooOdsnxTVlXP4doGEty04gbsS/TxQG6zx3nWbUeJyElAolLqi44eaz1+poisFZG1xcWuX5c2VdqVEJMCO76CvqdB0njA2s0yJZbvdhykodF1I9myCisZ3KeH2641ap4nvV/HBpFU1TUwZ24msWEBPHHJcIf8LIoIU9PiWbXrEEUVjl0OdfeKG3DAxVgRsQDPAHd29jWUUq8qpdKVUumxseaUFJrGxxfOfRzEAhn3HPNURmos5dX1/JxX5pJQlFJk6x43moOFB/uR2iuMNfvsq7x57POt7D10hL9PH0VEsOOqWKalxaEUfPazYztaunMfeht7En0+kNjscYJ1m00YMBxYJiJ7gXHAAusF2faO1QBSzoO790D/jGM2TxgYi0X4pZulk+WVVnO4tkFX3GgONyY5kvX7SmlspxXBl5sLeX91Lr+fOIDTBsQ4NIb+saGMTAhnvoOXb3JK3LcPvY09iX4NMEhEkkXEH+Pi6gLbk0qpcqVUjFIqSSmVBPwITFFKrbXud4WIBIhIMjAIWO3wP4U3CIo4YVN4sB8n9Y10WaK39aDXNfSao41JiuJwbcPR9hotKaqo4d5PNjI8vgd3nJPilDimpsWzOb+CnQccNxAlt7SKiGA/wjpwI5ertZvolVINwC3AYmAbME8ptUVEHhWRKe0cuwWYB2wFvgRuVko57/Y0LzQpJZZN+eUUV9Y6/b2yCq1TpXSi1xysvUEkTU2KO+f9TE19I/+4YrTT7sq+eFQfLIJDL8rmllTR143X58HONXql1EKlVIpSaoBS6gnrtgeVUgta2DfDejZve/yE9bhUpdQix4XePdiGhq/c4fyz+qzCShKjggg9blqPpnVVXEQQ8RFBrSb6N7/fw3c7D/LgRcMYEOu8Hks9wwIZPzCGTzP3O2wgSV5ptVuvz4O+M9btDYvrQUyov0uWb4xhI3p9XnOOMUmRrN5TekKC3bK/nL9+mc05Q3sxY2xiK0c7ztS0eHJKqlifU9bl12pqUuSXVpPgxuvzoBO927NYhIkpsazYUdzuhayuqKlvZM/BI7riRnOaMclRHDxcy75Dvwzsrq5rZM7cTMKD/Xjq0pEuKes9b1gvAnwtDlm+Kaqsoa6xSZ/Ra12XkdqTsirnllnuPHCYxialz+g1pxlrXadf3Wz55i+LtrHzwGH+/utRRLmoIVhYoB9nD+3F5xsLqO/iPSpHSyu9YY1eM9eEgTFYxLntEHTFjeZsA2JDiQj2O3rj1JJtRfz7h31cf3oyE1Nce//MtLR4So7U8d2Og116HXfvQ2+jE70HiAzxZ1RihFPbIWQVVhDgayEp2r3PTDTPZbEI6f2iWLuvlOLKWu7+aCODe4fxx/NSXR7LpJRYIoL9ulxTn1tahQjE60SvOUJGSk825pVx6LBzyiyzCisZ1Cu00x0CNc0eY5Mj2XPwCDe9u47DtQ38c8ZoAv1c3+fQ39fCBSP68NWWIo7UNnT6dXJLqukVFkiAr3v3atT/qj1ERmosSsHKLn7UbE12YSWpvfT6vOZc6Ufr6Uu5/4IhpPQyb6lw6qg4qusb+XprUadfw9aH3t3pRO8hRsSHExXi75SpUyVH6jhQWcsQ3ZpYc7LhceH0CPQlIzWWq07tZ2osY5KiiAsP7NLyTZ6b96G30XfGeAiLRZg4KIYVOw7S1KSwWBxXhqbviNVcxd/XwsI5E4gJDTC9Q6rFIkxJi+e1lbs5eLiWmNCADh1f19BEQUUNCW5ecQP6jN6jZKT2pORIHZvyyx36ulkFtqlSeulGc76EyGBT1uVbMm10HI1Nii82FnT42PyyapRy/4ob0Ineo0wYFIM4oZtldmEl0SH+xIZ17IxG0zzd4N49GNw7rFPLN0dLK/UZveZI0aEBjIwPZ9l2x67TZxVW6NGBWrc1NS2eDTll7Dt0pEPH2QaOuHtDM9CJ3uNMSu3Jz7lllB6pc8jrNTYpthcd1hU3Wrc1JS0OgE8zOzaQJLekGj8foZcHjN3Uid7DZKTG0qRg5U7HlFnmlFRRXd+oz+i1bis+IoixyVHMz8zvUEfL3NIq4iOC8HFgYYSz6ETvYUYlRBAZ7OewMstsa8WNbmamdWfT0uLZXXyEzfmtD0Y5Xl5JlUesz4NO9B7HxyJMGBTLiu3FNDmgm+W2gkosAoN66kSvdV8XjOiNn4906KJsbmk1CR5QQw860XukSSmxHDxcx5b99p99tCa7sJKk6BCC/N2j3E3TzBAR7E9Gak8++3m/Xe3Aj9Q2UHKkziPuigWd6D2SrdPfcgdU3+iKG00zTEuL50BlLT/sOtTuvraKG0+4KxbsTPQiMllEskVkp4jc28Lzs0Rkk4hkish3IjLUuj1JRKqt2zNF5GVH/wG6o9iwAEbEh3e5nr6qroF9JVW64kbTgLOG9CQ0wNeugSSe0ofept1ELyI+wAvA+cBQYIYtkTfznlJqhFIqDfgr8Eyz53YppdKsX7McFHe3l5Eay/qcUsqr6jv9GtuLDqMU+oxe04BAPx8mD+/Nl5sLqalvbHNfT+lDb2PPGf1YYKdSardSqg6YC0xtvoNSqvlicQjgvJl3GmCs0xtllp0/q9cVN5p2rGlp8VTWNvBtVtvLormlVQT7+7hsKlZX2ZPo44HcZo/zrNuOISI3i8gujDP6W5s9lSwiG0RkuYhMaOkNRGSmiKwVkbXFxc4fgu0N0hIj6BHo26WpU9sKKgn29/GYdUZNc7ZTB0TTMyyA+RvaXr7JLakmMTLY9MZs9nLYxVil1AtKqQHAPcAD1s0FQF+l1GjgDuA9ETlhQVgp9apSKl0plR4b69qRYp7K18fChJRYlm8v7tBNHs1lF1aS0ivMoZ0wNc2T+ViEi0fFsSy7uM1l0TwP6UNvY0+izwcSmz1OsG5rzVxgGoBSqlYpdcj6/TpgF5DSqUi1E2SkxHKgspatBR0vs1RKkVVYoXvQa9pxpqXFU9fYxMLNLXe0VEqRU1LlMTX0YF+iXwMMEpFkEfEHrgAWNN9BRAY1e3ghsMO6PdZ6MRcR6Q8MAnY7InDNWKeHznWzLK6spbSqnlQTJ/xomjsaHt+D/rEhrS7flBypo6qu0SOamdm0m+iVUg3ALcBiYBswTym1RUQeFZEp1t1uEZEtIpKJsURztXX7RGCjdftHwCylVImD/wzdVs8egQzt06NT6/TbCq096Pvo0kpNa05EmJYWz097SthfVn3C87mlnlVaCXZOmFJKLQQWHrftwWbfz2nluI+Bj7sSoNa2jNRYXlmxm4qaenoE+tl9nK640bTWTU2L45mvt7Pg5/3MmjTgmOd+6UPvXWv0mhvLSO1JY5Pi+w4ODc8qqKR3j0Aigj2jPEzTXKlfdAij+0a0uHzjaXfFgk70Hm903wjCAnw7vE6fVVipZ8RqWhumpcWTVVhJtnWZ0ya3pJqoEH9CAjxn5LZHRFpfX09eXh41NTVmh+J0gYGBJCQk4Odn3zKMn4+F0wfFHC2ztKeut76xiZ0HDjNhUExXw9U0r3XhyD48+vlW5mfmc8/kwUe355VWecwdsTYekejz8vIICwsjKSnJY25Q6AylFIcOHSIvL4/k5GS7j8tIjWXR5kKyiyrtGvC99+AR6hqbdOsDTWtDTGgAEwbFsCBzP388N/Xo/Sa5JVUMiw83ObqO8Yilm5qaGqKjo706yYNxtT86OrrDn1wmpfQE7C+ztFXc6GZmmta2aWnx5JdVs3ZfKWCM3swvq/ao9XnwkEQPeH2St+nMn7N3eCCDe4fZPXUqu7ACX4swoGdIh99L07qTc4b2IsjP5+hAkqKKGuoblUdV3IAHJXqtbZNSY1m7t5TKmva7WWYVVNI/NoQAXz1sRNPaEhLgy7nDerFwUwF1DU3NulbqM3qvc+jQIdLS0khLS6N3797Ex8cffVxXV9fmsWvXruXWW29tcx9HyEjpSUOTYpUdQxOyCu1by9c0zaipL6uqZ/n2Yo+8WQo85GKs2aKjo8nMzATg4YcfJjQ0lLvuuuvo8w0NDfj6tvxXmZ6eTnp6utNjTE+KJNRaZnnesN6t7ldRU09+WTW/OaWv02PSNG8wYVAsUSH+zM/MZ2BsKCIQFxFodlgd4nGJ/pHPtrDVAbNSmxsa14OHLh7WoWOuueYaAgMD2bBhA+PHj+eKK65gzpw51NTUEBQUxFtvvUVqairLli3jb3/7G59//jkPP/wwOTk57N69m5ycHG677TaHne37+VgYPzCa5dkH2iyz3G69EKubmWmaffx8LFw4og/z1uZSn9JE7x6BHrfs6XGJ3p3k5eWxatUqfHx8qKioYOXKlfj6+vLNN99w//338/HHJ3Z/yMrKYunSpVRWVpKamsrs2bPtrplvz6SUnizeUsSOA4dJaaVZWZat4kYv3Wia3aaNjuM/P+7jm21FpCdFmR1Oh3lcou/ombcz/frXv8bHx/jNXl5eztVXX82OHTsQEerrW74oeuGFFxIQEEBAQAA9e/akqKiIhIQEh8STkWrrZnmgjURfQVigL3HhnvXRU9PMdFLfSBKjgo4OHPE0+mJsF4SE/FKe+Oc//5kzzjiDzZs389lnn7VaCx8QEHD0ex8fHxoaGhwWT1xEECm9Qlm+vfV6+uzCSgb3Dus25aqa5ggiwtRRxmA9TyutBJ3oHaa8vJz4eOMH4e233zYtjozUnqzZU8qR2hN/gRjDRnTFjaZ1xiUnxePnIwzxwNbeOtE7yN133819993H6NGjHXqW3lGTUmKpa2xqscxyf3kNlTUNupmZpnXCgNhQfrjvLM4d2svsUDpMOjtv1FnS09PV2rVrj9m2bds2hgwZYlJErteVP29tQyOjH/2aS0bH88QlI455bsm2Iq5/Zy0fzz6Vk/t53gUlTdNaJyLrlFIt1nLrM3ovE+Drw2kDYlocGm6ruGntQq2mad7JrkQvIpNFJFtEdorIvS08P0tENolIpoh8JyJDmz13n/W4bBE5z5HBay3LSI0lr7SaXcVHjtmeVVhJQmQQYR2YRKVpmudrN9Fbh3u/AJwPDAVmNE/kVu8ppUYopdKAvwLPWI8dijFMfBgwGXjRNixcc55fhoYf2+Qsu7BCjw7UtG7InjP6scBOpdRupVQdMBeY2nwHpVTzW1VDANuawVRgrlKqVim1B9hpfT3NiRKjghkQG3JMmWVtQyO7io/oihtN64bsSfTxQG6zx3nWbccQkZtFZBfGGf2tHTx2poisFZG1xcUdG4mntSwjtSc/7S6hqs6oANp14AiNTUpX3GhaN+Swi7FKqReUUgOAe4AHOnjsq0qpdKVUemxsrKNC6tYyUo0yyx93G2WWWYXGhy7d40bTuh97En0+kNjscYJ1W2vmAtM6eazbOuOMM1i8ePEx25577jlmz57d4v4ZGRkcXybqSmOSogjy8zk6dSq7sBJ/XwtJ0XrYiKZ1N/Yk+jXAIBFJFhF/jIurC5rvICKDmj28ENhh/X4BcIWIBIhIMjAIWN31sF1vxowZzJ0795htc+fOZcaMGSZF1LZAPx9OHRDNsmyjzHJbYSWDeobi66MrajWtu2m3qZlSqkFEbgEWAz7Am0qpLSLyKLBWKbUAuEVEzgbqgVLgauuxW0RkHrAVaABuVko1diniRfdC4aYuvcQJeo+A859sc5fLLruMBx54gLq6Ovz9/dm7dy/79+/n/fff54477qC6uprLLruMRx55xLGxdUFGaizfZh1gz8EjZBdWMH5gjNkhaZpmAru6VyqlFgILj9v2YLPv57Rx7BPAE50N0F1ERUUxduxYFi1axNSpU5k7dy7Tp0/n/vvvJyoqisbGRs466yw2btzIyJEjzQ4XMKZOwRbmZ+6nqKJWl1ZqWjflcW2K2zvzdibb8o0t0b/xxhvMmzePV199lYaGBgoKCti6davbJPq+0cH0jwnh3z/sBdCllZrWTekF2w6YOnUqS5YsYf369VRVVREVFcXf/vY3lixZwsaNG7nwwgtbbU9slokpsZRVGb3x9Rm9pnVPOtF3QGhoKGeccQbXXXcdM2bMoKKigpCQEMLDwykqKmLRokVmh3gC2zCSqBB/YsMC2tlb0zRv5HlLNyabMWMGl1xyCXPnzmXw4MGMHj2awYMHk5iYyPjx480O7wTj+kcT4GshtZceNqJp3ZVO9B00bdq0Y7pCtjZkZNmyZa4JqB2Bfj48MmUYcRGeNxVH0zTH0Im+G7hibF+zQ9A0zUR6jV7TNM3LeUyid7dJWM7SXf6cmqa5jkck+sDAQA4dOuT1SVApxaFDhwgMDDQ7FE3TvIhHrNEnJCSQl5dHd2hhHBgYSEJCgtlhaJrmRTwi0fv5+ZGcnGx2GJqmaR7JI5ZuNE3TtM7TiV7TNM3L6USvaZrm5cTdKllEpBjY14WXiAEOOigcV/LUuEHHbhYduzncNfZ+SqkWZ7G6XaLvKhFZq5RKNzuOjvLUuEHHbhYduzk8MXa9dKNpmubldKLXNE3zct6Y6F81O4BO8tS4QcduFh27OTwudq9bo9c0TdOO5Y1n9JqmaVozOtFrmqZ5Oa9J9CIyWUSyRWSniNxrdjz2EpFEEVkqIltFZIuIzDE7po4SER8R2SAin5sdS0eISISIfCQiWSKyTURONTsme4jI7daflc0i8r6IuHW7UxF5U0QOiMjmZtuiRORrEdlh/W+kmTG2pJW4n7b+vGwUkf+JSISJIdrNKxK9iPgALwDnA0OBGSIy1Nyo7NYA3KmUGgqMA272oNht5gDbzA6iE/4BfKmUGgyMwgP+DCISD9wKpCulhgM+wBXmRtWut4HJx227F1iilBoELLE+djdvc2LcXwPDlVIjge3Afa4OqjO8ItEDY4GdSqndSqk6YC4w1eSY7KKUKlBKrbd+X4mRbOLNjcp+IpIAXAi8bnYsHSEi4cBE4A0ApVSdUqrM1KDs5wsEiYgvEAzsNzmeNimlVgAlx22eCrxj/f4dYJorY7JHS3Erpb5SSjVYH/4IeERPcW9J9PFAbrPHeXhQsrQRkSRgNPCTyaF0xHPA3UCTyXF0VDJQDLxlXXZ6XURCzA6qPUqpfOBvQA5QAJQrpb4yN6pO6aWUKrB+Xwj0MjOYTroOWGR2EPbwlkTv8UQkFPgYuE0pVWF2PPYQkYuAA0qpdWbH0gm+wEnAS0qp0cAR3HP54BjWteypGL+o4oAQEbnS3Ki6Rhk13h5V5y0if8JYdn3X7Fjs4S2JPh9IbPY4wbrNI4iIH0aSf1cp9YnZ8XTAeGCKiOzFWC47U0T+a25IdssD8pRStk9PH2Ekfnd3NrBHKVWslKoHPgFOMzmmzigSkT4A1v8eMDkeu4nINcBFwG+Vh9yI5C2Jfg0wSESSRcQf4+LUApNjsouICMY68Tal1DNmx9MRSqn7lFIJSqkkjL/zb5VSHnF2qZQqBHJFJNW66Sxgq4kh2SsHGCciwdafnbPwgIvILVgAXG39/mrgUxNjsZuITMZYqpyilKoyOx57eUWit14cuQVYjPFDP08ptcXcqOw2HvgdxtlwpvXrArOD6ib+ALwrIhuBNOD/zA2nfdZPIB8B64FNGP+G3fqWfBF5H/gBSBWRPBG5HngSOEdEdmB8SnnSzBhb0krczwNhwNfWf6svmxqknXQLBE3TNC/nFWf0mqZpWut0otc0TfNyOtFrmqZ5OZ3oNU3TvJxO9JqmaV5OJ3pN0zQvpxO9pmmal/t//wjwjqYbYXYAAAAASUVORK5CYII=",
      "text/plain": [
       "<Figure size 432x288 with 1 Axes>"
      ]
     },
     "metadata": {
      "needs_background": "light"
     },
     "output_type": "display_data"
    }
   ],
   "source": [
    "from matplotlib import pyplot as plt\n",
    "\n",
    "plt.plot(train_losses, label='Train')\n",
    "plt.plot(val_losses, label='Val')\n",
    "plt.title('Loss')\n",
    "plt.legend()\n",
    "plt.show()\n",
    "\n",
    "plt.plot(train_accuracies, label='Train')\n",
    "plt.plot(val_accuracies, label='Val')\n",
    "plt.title('Accuracy')\n",
    "plt.legend()\n",
    "plt.show()\n"
   ]
  },
  {
   "attachments": {},
   "cell_type": "markdown",
   "metadata": {},
   "source": [
    "# Test set"
   ]
  },
  {
   "cell_type": "code",
   "execution_count": null,
   "metadata": {},
   "outputs": [
    {
     "data": {
      "text/plain": [
       "<All keys matched successfully>"
      ]
     },
     "execution_count": 10,
     "metadata": {},
     "output_type": "execute_result"
    }
   ],
   "source": [
    "from tqdm import tqdm\n",
    "\n",
    "# load best model\n",
    "model.load_state_dict(torch.load('best_model.pt'))"
   ]
  },
  {
   "cell_type": "code",
   "execution_count": null,
   "metadata": {},
   "outputs": [
    {
     "name": "stderr",
     "output_type": "stream",
     "text": [
      "98it [00:15,  6.41it/s]\n"
     ]
    }
   ],
   "source": [
    "test_dataset = np.load('datasets/test_dataset.npy')\n",
    "\n",
    "test_dataset_cls = VideoAudioDataset(test_dataset, device, filepath_prefix=filepath, transform=VideoAudioDataset.Transform.RANDOM_SEGMENT, downsample_factor=5, downsample_frames=6, random_segment_seconds=1)\n",
    "\n",
    "test_dataloader = DataLoader(test_dataset_cls, batch_size=1, shuffle=False)\n",
    "\n",
    "model.eval()  # switch model to the evaluation mode\n",
    "test_predictions = []\n",
    "test_labels = []\n",
    "with torch.no_grad():  # deactivate autograd engine to reduce memory usage and speed up computations\n",
    "    for idx, (video, audio, label) in tqdm(enumerate(test_dataloader)):\n",
    "        video = video.to(device)\n",
    "        audio = audio.to(device)\n",
    "        output = model(video, audio)  # predict\n",
    "        output = (output > 0.5).float()  # apply threshold\n",
    "        test_predictions.extend(output.cpu().numpy())\n",
    "        test_labels.extend(label.numpy())\n",
    "\n",
    "        # print('Test [{}/{}]'.format(idx + 1, len(test_dataloader)))\n"
   ]
  },
  {
   "cell_type": "code",
   "execution_count": null,
   "metadata": {},
   "outputs": [
    {
     "name": "stdout",
     "output_type": "stream",
     "text": [
      "Test accuracy: 0.5000\n",
      "[0. 1. 0. 0. 1. 1. 0. 1. 1. 0. 1. 1. 0. 1. 0. 0. 0. 1. 0. 0. 1. 0. 0. 0.\n",
      " 0. 1. 1. 0. 1. 0. 0. 0. 1. 1. 1. 0. 1. 1. 0. 0. 0. 0. 1. 0. 1. 1. 0. 0.\n",
      " 0. 0. 0. 0. 0. 0. 0. 0. 1. 1. 1. 1. 1. 1. 1. 1. 0. 0. 1. 1. 0. 1. 0. 1.\n",
      " 0. 0. 0. 1. 0. 0. 0. 0. 0. 1. 1. 0. 0. 1. 0. 0. 0. 0. 1. 1. 0. 0. 1. 1.\n",
      " 0. 1.]\n",
      "[1 1 1 1 1 1 0 0 0 0 1 1 0 0 0 1 1 1 0 0 0 1 1 1 0 0 1 0 1 1 0 0 0 0 0 1 0\n",
      " 0 1 0 0 0 0 1 0 1 1 1 0 1 0 0 1 1 1 0 1 1 0 0 1 1 0 1 1 0 0 1 0 0 0 1 0 1\n",
      " 1 1 0 0 1 0 0 1 0 0 1 0 0 1 1 1 0 1 1 1 1 1 0 0]\n"
     ]
    }
   ],
   "source": [
    "# accuracy\n",
    "test_predictions = np.array(test_predictions)\n",
    "test_labels = np.array(test_labels)\n",
    "test_accuracy = (test_predictions.squeeze() == test_labels.squeeze()).sum() / len(test_labels.squeeze())\n",
    "print('Test accuracy: {:.4f}'.format(test_accuracy))\n",
    "print(test_predictions.squeeze())\n",
    "print(test_labels.squeeze())\n"
   ]
  },
  {
   "cell_type": "code",
   "execution_count": null,
   "metadata": {},
   "outputs": [
    {
     "data": {
      "text/plain": [
       "array([False,  True, False, False,  True,  True,  True, False, False,\n",
       "        True,  True,  True,  True, False,  True, False, False,  True,\n",
       "        True,  True, False, False, False, False,  True, False,  True,\n",
       "        True,  True, False,  True,  True, False, False, False, False,\n",
       "       False, False, False,  True,  True,  True, False, False, False,\n",
       "        True, False, False,  True, False,  True,  True, False, False,\n",
       "       False,  True,  True,  True, False, False,  True,  True, False,\n",
       "        True, False,  True, False,  True,  True, False,  True,  True,\n",
       "        True, False, False,  True,  True,  True, False,  True,  True,\n",
       "        True, False,  True, False, False,  True, False, False, False,\n",
       "       False,  True, False, False,  True,  True,  True, False])"
      ]
     },
     "execution_count": 30,
     "metadata": {},
     "output_type": "execute_result"
    }
   ],
   "source": [
    "(test_predictions.squeeze() == test_labels.squeeze())"
   ]
  }
 ],
 "metadata": {
  "kernelspec": {
   "display_name": "Python 3",
   "language": "python",
   "name": "python3"
  },
  "language_info": {
   "codemirror_mode": {
    "name": "ipython",
    "version": 3
   },
   "file_extension": ".py",
   "mimetype": "text/x-python",
   "name": "python",
   "nbconvert_exporter": "python",
   "pygments_lexer": "ipython3",
   "version": "3.9.6"
  },
  "orig_nbformat": 4
 },
 "nbformat": 4,
 "nbformat_minor": 2
}
